{
 "cells": [
  {
   "cell_type": "code",
   "execution_count": 3,
   "metadata": {},
   "outputs": [],
   "source": [
    "import pandas as pd\n",
    "import datetime as dt\n",
    "import time\n",
    "import requests"
   ]
  },
  {
   "cell_type": "code",
   "execution_count": 12,
   "metadata": {},
   "outputs": [],
   "source": [
    "# thank you to the pushshift demo code we covered in class\n",
    "def query_pushshift(subreddit, kind = 'submission', day_window = 7, n = 100):\n",
    "    SUBFIELDS = ['title', 'selftext', 'subreddit', 'created_utc', 'author', 'num_comments', 'score', 'is_self']\n",
    "    \n",
    "    # establish base url and stem\n",
    "    BASE_URL = f\"https://api.pushshift.io/reddit/search/{kind}\" # also known as the \"API endpoint\" \n",
    "    stem = f\"{BASE_URL}?subreddit={subreddit}&size=500\" # always pulling max of 500\n",
    "    \n",
    "    # instantiate empty list for temp storage\n",
    "    posts = []\n",
    "    \n",
    "    # implement for loop with `time.sleep(2)`\n",
    "    for i in range(1, n + 1):\n",
    "        URL = \"{}&after={}d\".format(stem, day_window * i)\n",
    "        print(\"Querying from: \" + URL)\n",
    "        response = requests.get(URL)\n",
    "        assert response.status_code == 200\n",
    "        mine = response.json()['data']\n",
    "        df = pd.DataFrame.from_dict(mine)\n",
    "        posts.append(df)\n",
    "        time.sleep(2)\n",
    "    \n",
    "    # pd.concat storage list\n",
    "    full = pd.concat(posts, sort=False)\n",
    "    \n",
    "    # if submission\n",
    "    if kind == \"submission\":\n",
    "        # select desired columns\n",
    "        full = full[SUBFIELDS]\n",
    "        # drop duplicates\n",
    "        full.drop_duplicates(inplace = True)\n",
    "        # select `is_self` == True\n",
    "        full = full.loc[full['is_self'] == True]\n",
    "\n",
    "    # create `timestamp` column\n",
    "    full['timestamp'] = full[\"created_utc\"].map(dt.date.fromtimestamp)\n",
    "    \n",
    "    print(\"Query Complete!\")    \n",
    "    return full"
   ]
  },
  {
   "cell_type": "code",
   "execution_count": 14,
   "metadata": {},
   "outputs": [
    {
     "name": "stdout",
     "output_type": "stream",
     "text": [
      "Querying from: https://api.pushshift.io/reddit/search/submission?subreddit=TalesFromRetail&size=500&after=7d\n",
      "Querying from: https://api.pushshift.io/reddit/search/submission?subreddit=TalesFromRetail&size=500&after=14d\n",
      "Querying from: https://api.pushshift.io/reddit/search/submission?subreddit=TalesFromRetail&size=500&after=21d\n",
      "Querying from: https://api.pushshift.io/reddit/search/submission?subreddit=TalesFromRetail&size=500&after=28d\n",
      "Querying from: https://api.pushshift.io/reddit/search/submission?subreddit=TalesFromRetail&size=500&after=35d\n",
      "Querying from: https://api.pushshift.io/reddit/search/submission?subreddit=TalesFromRetail&size=500&after=42d\n",
      "Querying from: https://api.pushshift.io/reddit/search/submission?subreddit=TalesFromRetail&size=500&after=49d\n",
      "Querying from: https://api.pushshift.io/reddit/search/submission?subreddit=TalesFromRetail&size=500&after=56d\n",
      "Querying from: https://api.pushshift.io/reddit/search/submission?subreddit=TalesFromRetail&size=500&after=63d\n",
      "Querying from: https://api.pushshift.io/reddit/search/submission?subreddit=TalesFromRetail&size=500&after=70d\n",
      "Querying from: https://api.pushshift.io/reddit/search/submission?subreddit=TalesFromRetail&size=500&after=77d\n",
      "Querying from: https://api.pushshift.io/reddit/search/submission?subreddit=TalesFromRetail&size=500&after=84d\n",
      "Querying from: https://api.pushshift.io/reddit/search/submission?subreddit=TalesFromRetail&size=500&after=91d\n",
      "Querying from: https://api.pushshift.io/reddit/search/submission?subreddit=TalesFromRetail&size=500&after=98d\n",
      "Querying from: https://api.pushshift.io/reddit/search/submission?subreddit=TalesFromRetail&size=500&after=105d\n",
      "Querying from: https://api.pushshift.io/reddit/search/submission?subreddit=TalesFromRetail&size=500&after=112d\n",
      "Querying from: https://api.pushshift.io/reddit/search/submission?subreddit=TalesFromRetail&size=500&after=119d\n",
      "Querying from: https://api.pushshift.io/reddit/search/submission?subreddit=TalesFromRetail&size=500&after=126d\n",
      "Querying from: https://api.pushshift.io/reddit/search/submission?subreddit=TalesFromRetail&size=500&after=133d\n",
      "Querying from: https://api.pushshift.io/reddit/search/submission?subreddit=TalesFromRetail&size=500&after=140d\n",
      "Querying from: https://api.pushshift.io/reddit/search/submission?subreddit=TalesFromRetail&size=500&after=147d\n",
      "Querying from: https://api.pushshift.io/reddit/search/submission?subreddit=TalesFromRetail&size=500&after=154d\n",
      "Querying from: https://api.pushshift.io/reddit/search/submission?subreddit=TalesFromRetail&size=500&after=161d\n",
      "Querying from: https://api.pushshift.io/reddit/search/submission?subreddit=TalesFromRetail&size=500&after=168d\n",
      "Querying from: https://api.pushshift.io/reddit/search/submission?subreddit=TalesFromRetail&size=500&after=175d\n",
      "Querying from: https://api.pushshift.io/reddit/search/submission?subreddit=TalesFromRetail&size=500&after=182d\n",
      "Querying from: https://api.pushshift.io/reddit/search/submission?subreddit=TalesFromRetail&size=500&after=189d\n",
      "Querying from: https://api.pushshift.io/reddit/search/submission?subreddit=TalesFromRetail&size=500&after=196d\n",
      "Querying from: https://api.pushshift.io/reddit/search/submission?subreddit=TalesFromRetail&size=500&after=203d\n",
      "Querying from: https://api.pushshift.io/reddit/search/submission?subreddit=TalesFromRetail&size=500&after=210d\n",
      "Querying from: https://api.pushshift.io/reddit/search/submission?subreddit=TalesFromRetail&size=500&after=217d\n",
      "Querying from: https://api.pushshift.io/reddit/search/submission?subreddit=TalesFromRetail&size=500&after=224d\n",
      "Querying from: https://api.pushshift.io/reddit/search/submission?subreddit=TalesFromRetail&size=500&after=231d\n",
      "Querying from: https://api.pushshift.io/reddit/search/submission?subreddit=TalesFromRetail&size=500&after=238d\n",
      "Querying from: https://api.pushshift.io/reddit/search/submission?subreddit=TalesFromRetail&size=500&after=245d\n",
      "Querying from: https://api.pushshift.io/reddit/search/submission?subreddit=TalesFromRetail&size=500&after=252d\n",
      "Querying from: https://api.pushshift.io/reddit/search/submission?subreddit=TalesFromRetail&size=500&after=259d\n",
      "Querying from: https://api.pushshift.io/reddit/search/submission?subreddit=TalesFromRetail&size=500&after=266d\n",
      "Querying from: https://api.pushshift.io/reddit/search/submission?subreddit=TalesFromRetail&size=500&after=273d\n",
      "Querying from: https://api.pushshift.io/reddit/search/submission?subreddit=TalesFromRetail&size=500&after=280d\n",
      "Querying from: https://api.pushshift.io/reddit/search/submission?subreddit=TalesFromRetail&size=500&after=287d\n",
      "Querying from: https://api.pushshift.io/reddit/search/submission?subreddit=TalesFromRetail&size=500&after=294d\n",
      "Querying from: https://api.pushshift.io/reddit/search/submission?subreddit=TalesFromRetail&size=500&after=301d\n",
      "Querying from: https://api.pushshift.io/reddit/search/submission?subreddit=TalesFromRetail&size=500&after=308d\n",
      "Querying from: https://api.pushshift.io/reddit/search/submission?subreddit=TalesFromRetail&size=500&after=315d\n",
      "Querying from: https://api.pushshift.io/reddit/search/submission?subreddit=TalesFromRetail&size=500&after=322d\n",
      "Querying from: https://api.pushshift.io/reddit/search/submission?subreddit=TalesFromRetail&size=500&after=329d\n",
      "Querying from: https://api.pushshift.io/reddit/search/submission?subreddit=TalesFromRetail&size=500&after=336d\n",
      "Querying from: https://api.pushshift.io/reddit/search/submission?subreddit=TalesFromRetail&size=500&after=343d\n",
      "Querying from: https://api.pushshift.io/reddit/search/submission?subreddit=TalesFromRetail&size=500&after=350d\n",
      "Querying from: https://api.pushshift.io/reddit/search/submission?subreddit=TalesFromRetail&size=500&after=357d\n",
      "Querying from: https://api.pushshift.io/reddit/search/submission?subreddit=TalesFromRetail&size=500&after=364d\n",
      "Querying from: https://api.pushshift.io/reddit/search/submission?subreddit=TalesFromRetail&size=500&after=371d\n",
      "Querying from: https://api.pushshift.io/reddit/search/submission?subreddit=TalesFromRetail&size=500&after=378d\n",
      "Querying from: https://api.pushshift.io/reddit/search/submission?subreddit=TalesFromRetail&size=500&after=385d\n",
      "Querying from: https://api.pushshift.io/reddit/search/submission?subreddit=TalesFromRetail&size=500&after=392d\n",
      "Querying from: https://api.pushshift.io/reddit/search/submission?subreddit=TalesFromRetail&size=500&after=399d\n",
      "Querying from: https://api.pushshift.io/reddit/search/submission?subreddit=TalesFromRetail&size=500&after=406d\n",
      "Querying from: https://api.pushshift.io/reddit/search/submission?subreddit=TalesFromRetail&size=500&after=413d\n",
      "Querying from: https://api.pushshift.io/reddit/search/submission?subreddit=TalesFromRetail&size=500&after=420d\n",
      "Querying from: https://api.pushshift.io/reddit/search/submission?subreddit=TalesFromRetail&size=500&after=427d\n",
      "Querying from: https://api.pushshift.io/reddit/search/submission?subreddit=TalesFromRetail&size=500&after=434d\n",
      "Querying from: https://api.pushshift.io/reddit/search/submission?subreddit=TalesFromRetail&size=500&after=441d\n",
      "Querying from: https://api.pushshift.io/reddit/search/submission?subreddit=TalesFromRetail&size=500&after=448d\n",
      "Querying from: https://api.pushshift.io/reddit/search/submission?subreddit=TalesFromRetail&size=500&after=455d\n",
      "Querying from: https://api.pushshift.io/reddit/search/submission?subreddit=TalesFromRetail&size=500&after=462d\n",
      "Querying from: https://api.pushshift.io/reddit/search/submission?subreddit=TalesFromRetail&size=500&after=469d\n",
      "Querying from: https://api.pushshift.io/reddit/search/submission?subreddit=TalesFromRetail&size=500&after=476d\n",
      "Querying from: https://api.pushshift.io/reddit/search/submission?subreddit=TalesFromRetail&size=500&after=483d\n",
      "Querying from: https://api.pushshift.io/reddit/search/submission?subreddit=TalesFromRetail&size=500&after=490d\n",
      "Querying from: https://api.pushshift.io/reddit/search/submission?subreddit=TalesFromRetail&size=500&after=497d\n",
      "Querying from: https://api.pushshift.io/reddit/search/submission?subreddit=TalesFromRetail&size=500&after=504d\n",
      "Querying from: https://api.pushshift.io/reddit/search/submission?subreddit=TalesFromRetail&size=500&after=511d\n",
      "Querying from: https://api.pushshift.io/reddit/search/submission?subreddit=TalesFromRetail&size=500&after=518d\n"
     ]
    },
    {
     "name": "stdout",
     "output_type": "stream",
     "text": [
      "Querying from: https://api.pushshift.io/reddit/search/submission?subreddit=TalesFromRetail&size=500&after=525d\n",
      "Querying from: https://api.pushshift.io/reddit/search/submission?subreddit=TalesFromRetail&size=500&after=532d\n",
      "Querying from: https://api.pushshift.io/reddit/search/submission?subreddit=TalesFromRetail&size=500&after=539d\n",
      "Querying from: https://api.pushshift.io/reddit/search/submission?subreddit=TalesFromRetail&size=500&after=546d\n",
      "Querying from: https://api.pushshift.io/reddit/search/submission?subreddit=TalesFromRetail&size=500&after=553d\n",
      "Querying from: https://api.pushshift.io/reddit/search/submission?subreddit=TalesFromRetail&size=500&after=560d\n",
      "Querying from: https://api.pushshift.io/reddit/search/submission?subreddit=TalesFromRetail&size=500&after=567d\n",
      "Querying from: https://api.pushshift.io/reddit/search/submission?subreddit=TalesFromRetail&size=500&after=574d\n",
      "Querying from: https://api.pushshift.io/reddit/search/submission?subreddit=TalesFromRetail&size=500&after=581d\n",
      "Querying from: https://api.pushshift.io/reddit/search/submission?subreddit=TalesFromRetail&size=500&after=588d\n",
      "Querying from: https://api.pushshift.io/reddit/search/submission?subreddit=TalesFromRetail&size=500&after=595d\n",
      "Querying from: https://api.pushshift.io/reddit/search/submission?subreddit=TalesFromRetail&size=500&after=602d\n",
      "Querying from: https://api.pushshift.io/reddit/search/submission?subreddit=TalesFromRetail&size=500&after=609d\n",
      "Querying from: https://api.pushshift.io/reddit/search/submission?subreddit=TalesFromRetail&size=500&after=616d\n",
      "Querying from: https://api.pushshift.io/reddit/search/submission?subreddit=TalesFromRetail&size=500&after=623d\n",
      "Querying from: https://api.pushshift.io/reddit/search/submission?subreddit=TalesFromRetail&size=500&after=630d\n",
      "Querying from: https://api.pushshift.io/reddit/search/submission?subreddit=TalesFromRetail&size=500&after=637d\n",
      "Querying from: https://api.pushshift.io/reddit/search/submission?subreddit=TalesFromRetail&size=500&after=644d\n",
      "Querying from: https://api.pushshift.io/reddit/search/submission?subreddit=TalesFromRetail&size=500&after=651d\n",
      "Querying from: https://api.pushshift.io/reddit/search/submission?subreddit=TalesFromRetail&size=500&after=658d\n",
      "Querying from: https://api.pushshift.io/reddit/search/submission?subreddit=TalesFromRetail&size=500&after=665d\n",
      "Querying from: https://api.pushshift.io/reddit/search/submission?subreddit=TalesFromRetail&size=500&after=672d\n",
      "Querying from: https://api.pushshift.io/reddit/search/submission?subreddit=TalesFromRetail&size=500&after=679d\n",
      "Querying from: https://api.pushshift.io/reddit/search/submission?subreddit=TalesFromRetail&size=500&after=686d\n",
      "Querying from: https://api.pushshift.io/reddit/search/submission?subreddit=TalesFromRetail&size=500&after=693d\n",
      "Querying from: https://api.pushshift.io/reddit/search/submission?subreddit=TalesFromRetail&size=500&after=700d\n",
      "Query Complete!\n"
     ]
    }
   ],
   "source": [
    "# get tales from retail data\n",
    "results_retail = query_pushshift('TalesFromRetail')"
   ]
  },
  {
   "cell_type": "code",
   "execution_count": 15,
   "metadata": {},
   "outputs": [
    {
     "name": "stdout",
     "output_type": "stream",
     "text": [
      "(8163, 9)\n",
      "(2925, 9)\n"
     ]
    }
   ],
   "source": [
    "# results_retail with n=100 searches over a 7-day time frame\n",
    "print(results_retail.shape)\n",
    "print(results_retail[results_retail['selftext'] != '[removed]'].shape)"
   ]
  },
  {
   "cell_type": "code",
   "execution_count": 16,
   "metadata": {},
   "outputs": [],
   "source": [
    "# filter out the removed posts\n",
    "retail = results_retail[~results_retail['selftext'].isin(['[removed]'])].copy()"
   ]
  },
  {
   "cell_type": "code",
   "execution_count": 17,
   "metadata": {},
   "outputs": [
    {
     "data": {
      "text/plain": [
       "(2925, 9)"
      ]
     },
     "execution_count": 17,
     "metadata": {},
     "output_type": "execute_result"
    }
   ],
   "source": [
    "retail.shape"
   ]
  },
  {
   "cell_type": "code",
   "execution_count": 18,
   "metadata": {},
   "outputs": [],
   "source": [
    "# add indicator column for classification\n",
    "retail['is_tech'] = 0"
   ]
  },
  {
   "cell_type": "code",
   "execution_count": 7,
   "metadata": {},
   "outputs": [
    {
     "name": "stdout",
     "output_type": "stream",
     "text": [
      "Querying from: https://api.pushshift.io/reddit/search/submission?subreddit=talesfromtechsupport&size=500&after=7d\n",
      "Querying from: https://api.pushshift.io/reddit/search/submission?subreddit=talesfromtechsupport&size=500&after=14d\n",
      "Querying from: https://api.pushshift.io/reddit/search/submission?subreddit=talesfromtechsupport&size=500&after=21d\n",
      "Querying from: https://api.pushshift.io/reddit/search/submission?subreddit=talesfromtechsupport&size=500&after=28d\n",
      "Querying from: https://api.pushshift.io/reddit/search/submission?subreddit=talesfromtechsupport&size=500&after=35d\n",
      "Querying from: https://api.pushshift.io/reddit/search/submission?subreddit=talesfromtechsupport&size=500&after=42d\n",
      "Querying from: https://api.pushshift.io/reddit/search/submission?subreddit=talesfromtechsupport&size=500&after=49d\n",
      "Querying from: https://api.pushshift.io/reddit/search/submission?subreddit=talesfromtechsupport&size=500&after=56d\n",
      "Querying from: https://api.pushshift.io/reddit/search/submission?subreddit=talesfromtechsupport&size=500&after=63d\n",
      "Querying from: https://api.pushshift.io/reddit/search/submission?subreddit=talesfromtechsupport&size=500&after=70d\n",
      "Querying from: https://api.pushshift.io/reddit/search/submission?subreddit=talesfromtechsupport&size=500&after=77d\n",
      "Querying from: https://api.pushshift.io/reddit/search/submission?subreddit=talesfromtechsupport&size=500&after=84d\n",
      "Querying from: https://api.pushshift.io/reddit/search/submission?subreddit=talesfromtechsupport&size=500&after=91d\n",
      "Querying from: https://api.pushshift.io/reddit/search/submission?subreddit=talesfromtechsupport&size=500&after=98d\n",
      "Querying from: https://api.pushshift.io/reddit/search/submission?subreddit=talesfromtechsupport&size=500&after=105d\n",
      "Querying from: https://api.pushshift.io/reddit/search/submission?subreddit=talesfromtechsupport&size=500&after=112d\n",
      "Querying from: https://api.pushshift.io/reddit/search/submission?subreddit=talesfromtechsupport&size=500&after=119d\n",
      "Querying from: https://api.pushshift.io/reddit/search/submission?subreddit=talesfromtechsupport&size=500&after=126d\n",
      "Querying from: https://api.pushshift.io/reddit/search/submission?subreddit=talesfromtechsupport&size=500&after=133d\n",
      "Querying from: https://api.pushshift.io/reddit/search/submission?subreddit=talesfromtechsupport&size=500&after=140d\n",
      "Querying from: https://api.pushshift.io/reddit/search/submission?subreddit=talesfromtechsupport&size=500&after=147d\n",
      "Querying from: https://api.pushshift.io/reddit/search/submission?subreddit=talesfromtechsupport&size=500&after=154d\n",
      "Querying from: https://api.pushshift.io/reddit/search/submission?subreddit=talesfromtechsupport&size=500&after=161d\n",
      "Querying from: https://api.pushshift.io/reddit/search/submission?subreddit=talesfromtechsupport&size=500&after=168d\n",
      "Querying from: https://api.pushshift.io/reddit/search/submission?subreddit=talesfromtechsupport&size=500&after=175d\n",
      "Querying from: https://api.pushshift.io/reddit/search/submission?subreddit=talesfromtechsupport&size=500&after=182d\n",
      "Querying from: https://api.pushshift.io/reddit/search/submission?subreddit=talesfromtechsupport&size=500&after=189d\n",
      "Querying from: https://api.pushshift.io/reddit/search/submission?subreddit=talesfromtechsupport&size=500&after=196d\n",
      "Querying from: https://api.pushshift.io/reddit/search/submission?subreddit=talesfromtechsupport&size=500&after=203d\n",
      "Querying from: https://api.pushshift.io/reddit/search/submission?subreddit=talesfromtechsupport&size=500&after=210d\n",
      "Querying from: https://api.pushshift.io/reddit/search/submission?subreddit=talesfromtechsupport&size=500&after=217d\n",
      "Querying from: https://api.pushshift.io/reddit/search/submission?subreddit=talesfromtechsupport&size=500&after=224d\n",
      "Querying from: https://api.pushshift.io/reddit/search/submission?subreddit=talesfromtechsupport&size=500&after=231d\n",
      "Querying from: https://api.pushshift.io/reddit/search/submission?subreddit=talesfromtechsupport&size=500&after=238d\n",
      "Querying from: https://api.pushshift.io/reddit/search/submission?subreddit=talesfromtechsupport&size=500&after=245d\n",
      "Querying from: https://api.pushshift.io/reddit/search/submission?subreddit=talesfromtechsupport&size=500&after=252d\n",
      "Querying from: https://api.pushshift.io/reddit/search/submission?subreddit=talesfromtechsupport&size=500&after=259d\n",
      "Querying from: https://api.pushshift.io/reddit/search/submission?subreddit=talesfromtechsupport&size=500&after=266d\n",
      "Querying from: https://api.pushshift.io/reddit/search/submission?subreddit=talesfromtechsupport&size=500&after=273d\n",
      "Querying from: https://api.pushshift.io/reddit/search/submission?subreddit=talesfromtechsupport&size=500&after=280d\n",
      "Querying from: https://api.pushshift.io/reddit/search/submission?subreddit=talesfromtechsupport&size=500&after=287d\n",
      "Querying from: https://api.pushshift.io/reddit/search/submission?subreddit=talesfromtechsupport&size=500&after=294d\n",
      "Querying from: https://api.pushshift.io/reddit/search/submission?subreddit=talesfromtechsupport&size=500&after=301d\n",
      "Querying from: https://api.pushshift.io/reddit/search/submission?subreddit=talesfromtechsupport&size=500&after=308d\n",
      "Querying from: https://api.pushshift.io/reddit/search/submission?subreddit=talesfromtechsupport&size=500&after=315d\n",
      "Querying from: https://api.pushshift.io/reddit/search/submission?subreddit=talesfromtechsupport&size=500&after=322d\n",
      "Querying from: https://api.pushshift.io/reddit/search/submission?subreddit=talesfromtechsupport&size=500&after=329d\n",
      "Querying from: https://api.pushshift.io/reddit/search/submission?subreddit=talesfromtechsupport&size=500&after=336d\n",
      "Querying from: https://api.pushshift.io/reddit/search/submission?subreddit=talesfromtechsupport&size=500&after=343d\n",
      "Querying from: https://api.pushshift.io/reddit/search/submission?subreddit=talesfromtechsupport&size=500&after=350d\n",
      "Querying from: https://api.pushshift.io/reddit/search/submission?subreddit=talesfromtechsupport&size=500&after=357d\n",
      "Querying from: https://api.pushshift.io/reddit/search/submission?subreddit=talesfromtechsupport&size=500&after=364d\n",
      "Querying from: https://api.pushshift.io/reddit/search/submission?subreddit=talesfromtechsupport&size=500&after=371d\n",
      "Querying from: https://api.pushshift.io/reddit/search/submission?subreddit=talesfromtechsupport&size=500&after=378d\n",
      "Querying from: https://api.pushshift.io/reddit/search/submission?subreddit=talesfromtechsupport&size=500&after=385d\n",
      "Querying from: https://api.pushshift.io/reddit/search/submission?subreddit=talesfromtechsupport&size=500&after=392d\n",
      "Querying from: https://api.pushshift.io/reddit/search/submission?subreddit=talesfromtechsupport&size=500&after=399d\n",
      "Querying from: https://api.pushshift.io/reddit/search/submission?subreddit=talesfromtechsupport&size=500&after=406d\n",
      "Querying from: https://api.pushshift.io/reddit/search/submission?subreddit=talesfromtechsupport&size=500&after=413d\n",
      "Querying from: https://api.pushshift.io/reddit/search/submission?subreddit=talesfromtechsupport&size=500&after=420d\n",
      "Querying from: https://api.pushshift.io/reddit/search/submission?subreddit=talesfromtechsupport&size=500&after=427d\n",
      "Querying from: https://api.pushshift.io/reddit/search/submission?subreddit=talesfromtechsupport&size=500&after=434d\n",
      "Querying from: https://api.pushshift.io/reddit/search/submission?subreddit=talesfromtechsupport&size=500&after=441d\n",
      "Querying from: https://api.pushshift.io/reddit/search/submission?subreddit=talesfromtechsupport&size=500&after=448d\n",
      "Querying from: https://api.pushshift.io/reddit/search/submission?subreddit=talesfromtechsupport&size=500&after=455d\n",
      "Querying from: https://api.pushshift.io/reddit/search/submission?subreddit=talesfromtechsupport&size=500&after=462d\n",
      "Querying from: https://api.pushshift.io/reddit/search/submission?subreddit=talesfromtechsupport&size=500&after=469d\n",
      "Querying from: https://api.pushshift.io/reddit/search/submission?subreddit=talesfromtechsupport&size=500&after=476d\n",
      "Querying from: https://api.pushshift.io/reddit/search/submission?subreddit=talesfromtechsupport&size=500&after=483d\n",
      "Querying from: https://api.pushshift.io/reddit/search/submission?subreddit=talesfromtechsupport&size=500&after=490d\n",
      "Querying from: https://api.pushshift.io/reddit/search/submission?subreddit=talesfromtechsupport&size=500&after=497d\n"
     ]
    },
    {
     "name": "stdout",
     "output_type": "stream",
     "text": [
      "Querying from: https://api.pushshift.io/reddit/search/submission?subreddit=talesfromtechsupport&size=500&after=504d\n",
      "Querying from: https://api.pushshift.io/reddit/search/submission?subreddit=talesfromtechsupport&size=500&after=511d\n",
      "Querying from: https://api.pushshift.io/reddit/search/submission?subreddit=talesfromtechsupport&size=500&after=518d\n",
      "Querying from: https://api.pushshift.io/reddit/search/submission?subreddit=talesfromtechsupport&size=500&after=525d\n",
      "Querying from: https://api.pushshift.io/reddit/search/submission?subreddit=talesfromtechsupport&size=500&after=532d\n",
      "Querying from: https://api.pushshift.io/reddit/search/submission?subreddit=talesfromtechsupport&size=500&after=539d\n",
      "Querying from: https://api.pushshift.io/reddit/search/submission?subreddit=talesfromtechsupport&size=500&after=546d\n",
      "Querying from: https://api.pushshift.io/reddit/search/submission?subreddit=talesfromtechsupport&size=500&after=553d\n",
      "Querying from: https://api.pushshift.io/reddit/search/submission?subreddit=talesfromtechsupport&size=500&after=560d\n",
      "Query Complete!\n"
     ]
    }
   ],
   "source": [
    "# get tales from tech data\n",
    "results_tech = query_pushshift('talesfromtechsupport')"
   ]
  },
  {
   "cell_type": "code",
   "execution_count": 8,
   "metadata": {},
   "outputs": [
    {
     "name": "stdout",
     "output_type": "stream",
     "text": [
      "(4140, 9)\n",
      "(2503, 9)\n"
     ]
    }
   ],
   "source": [
    "# results_tech with n=80 searches over a 7-day time frame\n",
    "print(results_tech.shape)\n",
    "print(results_tech[results_tech['selftext'] != '[removed]'].shape)"
   ]
  },
  {
   "cell_type": "code",
   "execution_count": 9,
   "metadata": {},
   "outputs": [],
   "source": [
    "# filter out the removed posts\n",
    "tech = results_tech[~results_tech['selftext'].isin(['[removed]'])].copy()"
   ]
  },
  {
   "cell_type": "code",
   "execution_count": 10,
   "metadata": {},
   "outputs": [
    {
     "data": {
      "text/plain": [
       "(2503, 9)"
      ]
     },
     "execution_count": 10,
     "metadata": {},
     "output_type": "execute_result"
    }
   ],
   "source": [
    "tech.shape"
   ]
  },
  {
   "cell_type": "code",
   "execution_count": 11,
   "metadata": {},
   "outputs": [],
   "source": [
    "# create indicator column\n",
    "tech['is_tech'] = 1"
   ]
  },
  {
   "cell_type": "code",
   "execution_count": 19,
   "metadata": {},
   "outputs": [
    {
     "data": {
      "text/plain": [
       "(2503, 10)"
      ]
     },
     "execution_count": 19,
     "metadata": {},
     "output_type": "execute_result"
    }
   ],
   "source": [
    "tech.shape"
   ]
  },
  {
   "cell_type": "code",
   "execution_count": 20,
   "metadata": {},
   "outputs": [
    {
     "data": {
      "text/html": [
       "<div>\n",
       "<style scoped>\n",
       "    .dataframe tbody tr th:only-of-type {\n",
       "        vertical-align: middle;\n",
       "    }\n",
       "\n",
       "    .dataframe tbody tr th {\n",
       "        vertical-align: top;\n",
       "    }\n",
       "\n",
       "    .dataframe thead th {\n",
       "        text-align: right;\n",
       "    }\n",
       "</style>\n",
       "<table border=\"1\" class=\"dataframe\">\n",
       "  <thead>\n",
       "    <tr style=\"text-align: right;\">\n",
       "      <th></th>\n",
       "      <th>title</th>\n",
       "      <th>selftext</th>\n",
       "      <th>subreddit</th>\n",
       "      <th>created_utc</th>\n",
       "      <th>author</th>\n",
       "      <th>num_comments</th>\n",
       "      <th>score</th>\n",
       "      <th>is_self</th>\n",
       "      <th>timestamp</th>\n",
       "      <th>is_tech</th>\n",
       "    </tr>\n",
       "  </thead>\n",
       "  <tbody>\n",
       "    <tr>\n",
       "      <th>1</th>\n",
       "      <td>This is urgent! Fix this right now! But s week...</td>\n",
       "      <td>Got a call from a vip working at home. He comp...</td>\n",
       "      <td>talesfromtechsupport</td>\n",
       "      <td>1631096858</td>\n",
       "      <td>TheQuarantinian</td>\n",
       "      <td>69</td>\n",
       "      <td>1</td>\n",
       "      <td>True</td>\n",
       "      <td>2021-09-08</td>\n",
       "      <td>1</td>\n",
       "    </tr>\n",
       "    <tr>\n",
       "      <th>2</th>\n",
       "      <td>Every time I'm here the network sucks! Fix it!...</td>\n",
       "      <td>Martin was a manager at humungocorp, overseein...</td>\n",
       "      <td>talesfromtechsupport</td>\n",
       "      <td>1631112720</td>\n",
       "      <td>TheQuarantinian</td>\n",
       "      <td>2</td>\n",
       "      <td>1</td>\n",
       "      <td>True</td>\n",
       "      <td>2021-09-08</td>\n",
       "      <td>1</td>\n",
       "    </tr>\n",
       "    <tr>\n",
       "      <th>3</th>\n",
       "      <td>\"Please stop asking me to do that.\"</td>\n",
       "      <td>I have a person in my organization who just RE...</td>\n",
       "      <td>talesfromtechsupport</td>\n",
       "      <td>1631117739</td>\n",
       "      <td>jaxmagicman</td>\n",
       "      <td>347</td>\n",
       "      <td>1</td>\n",
       "      <td>True</td>\n",
       "      <td>2021-09-08</td>\n",
       "      <td>1</td>\n",
       "    </tr>\n",
       "    <tr>\n",
       "      <th>4</th>\n",
       "      <td>How do I fix this? \"Support has ended the chat...</td>\n",
       "      <td>Support: \"Can you provide more details in rega...</td>\n",
       "      <td>talesfromtechsupport</td>\n",
       "      <td>1631117913</td>\n",
       "      <td>jggunbeliever</td>\n",
       "      <td>9</td>\n",
       "      <td>1</td>\n",
       "      <td>True</td>\n",
       "      <td>2021-09-08</td>\n",
       "      <td>1</td>\n",
       "    </tr>\n",
       "    <tr>\n",
       "      <th>5</th>\n",
       "      <td>Dear director. You get getting a new hard driv...</td>\n",
       "      <td>User complains that her laptop is slow. Unders...</td>\n",
       "      <td>talesfromtechsupport</td>\n",
       "      <td>1631127660</td>\n",
       "      <td>TheQuarantinian</td>\n",
       "      <td>107</td>\n",
       "      <td>1</td>\n",
       "      <td>True</td>\n",
       "      <td>2021-09-08</td>\n",
       "      <td>1</td>\n",
       "    </tr>\n",
       "  </tbody>\n",
       "</table>\n",
       "</div>"
      ],
      "text/plain": [
       "                                               title  \\\n",
       "1  This is urgent! Fix this right now! But s week...   \n",
       "2  Every time I'm here the network sucks! Fix it!...   \n",
       "3                \"Please stop asking me to do that.\"   \n",
       "4  How do I fix this? \"Support has ended the chat...   \n",
       "5  Dear director. You get getting a new hard driv...   \n",
       "\n",
       "                                            selftext             subreddit  \\\n",
       "1  Got a call from a vip working at home. He comp...  talesfromtechsupport   \n",
       "2  Martin was a manager at humungocorp, overseein...  talesfromtechsupport   \n",
       "3  I have a person in my organization who just RE...  talesfromtechsupport   \n",
       "4  Support: \"Can you provide more details in rega...  talesfromtechsupport   \n",
       "5  User complains that her laptop is slow. Unders...  talesfromtechsupport   \n",
       "\n",
       "   created_utc           author  num_comments  score  is_self   timestamp  \\\n",
       "1   1631096858  TheQuarantinian            69      1     True  2021-09-08   \n",
       "2   1631112720  TheQuarantinian             2      1     True  2021-09-08   \n",
       "3   1631117739      jaxmagicman           347      1     True  2021-09-08   \n",
       "4   1631117913    jggunbeliever             9      1     True  2021-09-08   \n",
       "5   1631127660  TheQuarantinian           107      1     True  2021-09-08   \n",
       "\n",
       "   is_tech  \n",
       "1        1  \n",
       "2        1  \n",
       "3        1  \n",
       "4        1  \n",
       "5        1  "
      ]
     },
     "execution_count": 20,
     "metadata": {},
     "output_type": "execute_result"
    }
   ],
   "source": [
    "tech.head()"
   ]
  },
  {
   "cell_type": "code",
   "execution_count": 23,
   "metadata": {},
   "outputs": [
    {
     "data": {
      "text/plain": [
       "1    2503\n",
       "Name: is_tech, dtype: int64"
      ]
     },
     "execution_count": 23,
     "metadata": {},
     "output_type": "execute_result"
    }
   ],
   "source": [
    "tech['is_tech'].value_counts()"
   ]
  },
  {
   "cell_type": "code",
   "execution_count": 21,
   "metadata": {},
   "outputs": [
    {
     "data": {
      "text/plain": [
       "(2925, 10)"
      ]
     },
     "execution_count": 21,
     "metadata": {},
     "output_type": "execute_result"
    }
   ],
   "source": [
    "retail.shape"
   ]
  },
  {
   "cell_type": "code",
   "execution_count": 22,
   "metadata": {},
   "outputs": [
    {
     "data": {
      "text/html": [
       "<div>\n",
       "<style scoped>\n",
       "    .dataframe tbody tr th:only-of-type {\n",
       "        vertical-align: middle;\n",
       "    }\n",
       "\n",
       "    .dataframe tbody tr th {\n",
       "        vertical-align: top;\n",
       "    }\n",
       "\n",
       "    .dataframe thead th {\n",
       "        text-align: right;\n",
       "    }\n",
       "</style>\n",
       "<table border=\"1\" class=\"dataframe\">\n",
       "  <thead>\n",
       "    <tr style=\"text-align: right;\">\n",
       "      <th></th>\n",
       "      <th>title</th>\n",
       "      <th>selftext</th>\n",
       "      <th>subreddit</th>\n",
       "      <th>created_utc</th>\n",
       "      <th>author</th>\n",
       "      <th>num_comments</th>\n",
       "      <th>score</th>\n",
       "      <th>is_self</th>\n",
       "      <th>timestamp</th>\n",
       "      <th>is_tech</th>\n",
       "    </tr>\n",
       "  </thead>\n",
       "  <tbody>\n",
       "    <tr>\n",
       "      <th>7</th>\n",
       "      <td>Local Homeless Threatened Me and Smoked M*th B...</td>\n",
       "      <td>Disclaimer: this is my first time writing a st...</td>\n",
       "      <td>TalesFromRetail</td>\n",
       "      <td>1631145547</td>\n",
       "      <td>zhalfface01z</td>\n",
       "      <td>3</td>\n",
       "      <td>1</td>\n",
       "      <td>True</td>\n",
       "      <td>2021-09-08</td>\n",
       "      <td>0</td>\n",
       "    </tr>\n",
       "    <tr>\n",
       "      <th>8</th>\n",
       "      <td>Customers that lack common sense or common cou...</td>\n",
       "      <td>I deal with customers that lack common sense a...</td>\n",
       "      <td>TalesFromRetail</td>\n",
       "      <td>1631146701</td>\n",
       "      <td>petalsrose</td>\n",
       "      <td>1</td>\n",
       "      <td>1</td>\n",
       "      <td>True</td>\n",
       "      <td>2021-09-08</td>\n",
       "      <td>0</td>\n",
       "    </tr>\n",
       "    <tr>\n",
       "      <th>12</th>\n",
       "      <td>Funny story. Accidentally Looked Up NSFW Relat...</td>\n",
       "      <td>\\nA very funny and short story. Where I use to...</td>\n",
       "      <td>TalesFromRetail</td>\n",
       "      <td>1631195356</td>\n",
       "      <td>TylPlas26</td>\n",
       "      <td>0</td>\n",
       "      <td>1</td>\n",
       "      <td>True</td>\n",
       "      <td>2021-09-09</td>\n",
       "      <td>0</td>\n",
       "    </tr>\n",
       "    <tr>\n",
       "      <th>13</th>\n",
       "      <td>Customer doesn't understand the passage of time</td>\n",
       "      <td>This happened to me a few years ago now, I've ...</td>\n",
       "      <td>TalesFromRetail</td>\n",
       "      <td>1631197247</td>\n",
       "      <td>Notiser</td>\n",
       "      <td>91</td>\n",
       "      <td>1</td>\n",
       "      <td>True</td>\n",
       "      <td>2021-09-09</td>\n",
       "      <td>0</td>\n",
       "    </tr>\n",
       "    <tr>\n",
       "      <th>17</th>\n",
       "      <td>Humans are descended from apes. Example:</td>\n",
       "      <td>Tl;dr at the end\\n\\nSo this story happened a f...</td>\n",
       "      <td>TalesFromRetail</td>\n",
       "      <td>1631204279</td>\n",
       "      <td>Admiral_Ced</td>\n",
       "      <td>0</td>\n",
       "      <td>1</td>\n",
       "      <td>True</td>\n",
       "      <td>2021-09-09</td>\n",
       "      <td>0</td>\n",
       "    </tr>\n",
       "  </tbody>\n",
       "</table>\n",
       "</div>"
      ],
      "text/plain": [
       "                                                title  \\\n",
       "7   Local Homeless Threatened Me and Smoked M*th B...   \n",
       "8   Customers that lack common sense or common cou...   \n",
       "12  Funny story. Accidentally Looked Up NSFW Relat...   \n",
       "13    Customer doesn't understand the passage of time   \n",
       "17           Humans are descended from apes. Example:   \n",
       "\n",
       "                                             selftext        subreddit  \\\n",
       "7   Disclaimer: this is my first time writing a st...  TalesFromRetail   \n",
       "8   I deal with customers that lack common sense a...  TalesFromRetail   \n",
       "12  \\nA very funny and short story. Where I use to...  TalesFromRetail   \n",
       "13  This happened to me a few years ago now, I've ...  TalesFromRetail   \n",
       "17  Tl;dr at the end\\n\\nSo this story happened a f...  TalesFromRetail   \n",
       "\n",
       "    created_utc        author  num_comments  score  is_self   timestamp  \\\n",
       "7    1631145547  zhalfface01z             3      1     True  2021-09-08   \n",
       "8    1631146701    petalsrose             1      1     True  2021-09-08   \n",
       "12   1631195356     TylPlas26             0      1     True  2021-09-09   \n",
       "13   1631197247       Notiser            91      1     True  2021-09-09   \n",
       "17   1631204279   Admiral_Ced             0      1     True  2021-09-09   \n",
       "\n",
       "    is_tech  \n",
       "7         0  \n",
       "8         0  \n",
       "12        0  \n",
       "13        0  \n",
       "17        0  "
      ]
     },
     "execution_count": 22,
     "metadata": {},
     "output_type": "execute_result"
    }
   ],
   "source": [
    "retail.head()"
   ]
  },
  {
   "cell_type": "code",
   "execution_count": 24,
   "metadata": {},
   "outputs": [
    {
     "data": {
      "text/plain": [
       "0    2925\n",
       "Name: is_tech, dtype: int64"
      ]
     },
     "execution_count": 24,
     "metadata": {},
     "output_type": "execute_result"
    }
   ],
   "source": [
    "retail['is_tech'].value_counts()"
   ]
  },
  {
   "cell_type": "code",
   "execution_count": 25,
   "metadata": {},
   "outputs": [],
   "source": [
    "# combine retail and tech\n",
    "tales = retail.append(tech)"
   ]
  },
  {
   "cell_type": "code",
   "execution_count": 27,
   "metadata": {},
   "outputs": [
    {
     "data": {
      "text/plain": [
       "0    2925\n",
       "1    2503\n",
       "Name: is_tech, dtype: int64"
      ]
     },
     "execution_count": 27,
     "metadata": {},
     "output_type": "execute_result"
    }
   ],
   "source": [
    "tales['is_tech'].value_counts()"
   ]
  },
  {
   "cell_type": "code",
   "execution_count": 28,
   "metadata": {},
   "outputs": [
    {
     "data": {
      "text/plain": [
       "(5428, 10)"
      ]
     },
     "execution_count": 28,
     "metadata": {},
     "output_type": "execute_result"
    }
   ],
   "source": [
    "tales.shape"
   ]
  },
  {
   "cell_type": "code",
   "execution_count": 26,
   "metadata": {},
   "outputs": [],
   "source": [
    "# save as csv\n",
    "tales.to_csv('../data/tales.csv', index = False)"
   ]
  },
  {
   "cell_type": "code",
   "execution_count": null,
   "metadata": {},
   "outputs": [],
   "source": []
  }
 ],
 "metadata": {
  "kernelspec": {
   "display_name": "Python 3",
   "language": "python",
   "name": "python3"
  },
  "language_info": {
   "codemirror_mode": {
    "name": "ipython",
    "version": 3
   },
   "file_extension": ".py",
   "mimetype": "text/x-python",
   "name": "python",
   "nbconvert_exporter": "python",
   "pygments_lexer": "ipython3",
   "version": "3.7.9"
  }
 },
 "nbformat": 4,
 "nbformat_minor": 4
}
