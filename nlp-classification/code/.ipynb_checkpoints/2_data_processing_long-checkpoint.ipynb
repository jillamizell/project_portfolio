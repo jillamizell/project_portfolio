{
 "cells": [
  {
   "cell_type": "markdown",
   "metadata": {},
   "source": [
    "# Import Libraries, Import Data"
   ]
  },
  {
   "cell_type": "code",
   "execution_count": 1,
   "metadata": {},
   "outputs": [],
   "source": [
    "import pandas as pd\n",
    "import numpy as np\n",
    "import matplotlib.pyplot as plt\n",
    "import seaborn as sns\n",
    "import spacy\n",
    "import re\n",
    "\n",
    "# Create the nlp object\n",
    "nlp = spacy.load('en_core_web_lg')\n",
    "\n",
    "# increase the amount of text to display\n",
    "pd.options.display.max_colwidth = 500"
   ]
  },
  {
   "cell_type": "code",
   "execution_count": 8,
   "metadata": {},
   "outputs": [],
   "source": [
    "#################\n",
    "## IMPORT DATA ##\n",
    "#################\n",
    "\n",
    "tales = pd.read_csv('../data/tales.csv')"
   ]
  },
  {
   "cell_type": "code",
   "execution_count": 9,
   "metadata": {},
   "outputs": [
    {
     "data": {
      "text/plain": [
       "(5428, 10)"
      ]
     },
     "execution_count": 9,
     "metadata": {},
     "output_type": "execute_result"
    }
   ],
   "source": [
    "tales.shape"
   ]
  },
  {
   "cell_type": "code",
   "execution_count": 14,
   "metadata": {},
   "outputs": [
    {
     "name": "stdout",
     "output_type": "stream",
     "text": [
      "<class 'pandas.core.frame.DataFrame'>\n",
      "Int64Index: 5139 entries, 0 to 5427\n",
      "Data columns (total 6 columns):\n",
      " #   Column        Non-Null Count  Dtype         \n",
      "---  ------        --------------  -----         \n",
      " 0   title         5139 non-null   object        \n",
      " 1   selftext      5139 non-null   object        \n",
      " 2   subreddit     5139 non-null   object        \n",
      " 3   num_comments  5139 non-null   int64         \n",
      " 4   timestamp     5139 non-null   datetime64[ns]\n",
      " 5   is_tech       5139 non-null   int64         \n",
      "dtypes: datetime64[ns](1), int64(2), object(3)\n",
      "memory usage: 281.0+ KB\n"
     ]
    }
   ],
   "source": [
    "tales.info()"
   ]
  },
  {
   "cell_type": "code",
   "execution_count": 13,
   "metadata": {},
   "outputs": [],
   "source": [
    "################\n",
    "## CLEAN DATA ##\n",
    "################\n",
    "\n",
    "## drop missing values in 'selftext' ##\n",
    "tales.dropna(inplace = True)\n",
    "\n",
    "## drop columns ##\n",
    "drop_cols = ['created_utc', 'author', 'score', 'is_self']\n",
    "tales.drop(columns = drop_cols, inplace = True)\n",
    "\n",
    "## convert timestamp to datetime ##\n",
    "tales['timestamp'] = pd.to_datetime(tales['timestamp'])"
   ]
  },
  {
   "cell_type": "code",
   "execution_count": null,
   "metadata": {},
   "outputs": [],
   "source": [
    "tales.head()"
   ]
  },
  {
   "cell_type": "code",
   "execution_count": null,
   "metadata": {},
   "outputs": [],
   "source": [
    "tales.tail()"
   ]
  },
  {
   "cell_type": "markdown",
   "metadata": {},
   "source": [
    "---\n",
    "# Explore Data, Engineer Features"
   ]
  },
  {
   "cell_type": "code",
   "execution_count": 57,
   "metadata": {},
   "outputs": [
    {
     "data": {
      "text/plain": [
       "TalesFromRetail         2671\n",
       "talesfromtechsupport    2444\n",
       "Name: subreddit, dtype: int64"
      ]
     },
     "execution_count": 57,
     "metadata": {},
     "output_type": "execute_result"
    }
   ],
   "source": [
    "# subreddit frequency\n",
    "tales['subreddit'].value_counts()"
   ]
  },
  {
   "cell_type": "code",
   "execution_count": 58,
   "metadata": {},
   "outputs": [
    {
     "data": {
      "text/plain": [
       "TalesFromRetail         0.52219\n",
       "talesfromtechsupport    0.47781\n",
       "Name: subreddit, dtype: float64"
      ]
     },
     "execution_count": 58,
     "metadata": {},
     "output_type": "execute_result"
    }
   ],
   "source": [
    "# subreddit frequency proportions\n",
    "tales['subreddit'].value_counts(normalize = True)"
   ]
  },
  {
   "cell_type": "code",
   "execution_count": 56,
   "metadata": {},
   "outputs": [
    {
     "data": {
      "text/html": [
       "<div>\n",
       "<style scoped>\n",
       "    .dataframe tbody tr th:only-of-type {\n",
       "        vertical-align: middle;\n",
       "    }\n",
       "\n",
       "    .dataframe tbody tr th {\n",
       "        vertical-align: top;\n",
       "    }\n",
       "\n",
       "    .dataframe thead th {\n",
       "        text-align: right;\n",
       "    }\n",
       "</style>\n",
       "<table border=\"1\" class=\"dataframe\">\n",
       "  <thead>\n",
       "    <tr style=\"text-align: right;\">\n",
       "      <th>subreddit</th>\n",
       "      <th>TalesFromRetail</th>\n",
       "      <th>talesfromtechsupport</th>\n",
       "    </tr>\n",
       "  </thead>\n",
       "  <tbody>\n",
       "    <tr>\n",
       "      <th>count</th>\n",
       "      <td>2671.000000</td>\n",
       "      <td>2444.000000</td>\n",
       "    </tr>\n",
       "    <tr>\n",
       "      <th>mean</th>\n",
       "      <td>33.465743</td>\n",
       "      <td>66.851473</td>\n",
       "    </tr>\n",
       "    <tr>\n",
       "      <th>std</th>\n",
       "      <td>55.864183</td>\n",
       "      <td>85.108462</td>\n",
       "    </tr>\n",
       "    <tr>\n",
       "      <th>min</th>\n",
       "      <td>0.000000</td>\n",
       "      <td>0.000000</td>\n",
       "    </tr>\n",
       "    <tr>\n",
       "      <th>25%</th>\n",
       "      <td>1.000000</td>\n",
       "      <td>14.000000</td>\n",
       "    </tr>\n",
       "    <tr>\n",
       "      <th>50%</th>\n",
       "      <td>12.000000</td>\n",
       "      <td>38.000000</td>\n",
       "    </tr>\n",
       "    <tr>\n",
       "      <th>75%</th>\n",
       "      <td>40.000000</td>\n",
       "      <td>92.000000</td>\n",
       "    </tr>\n",
       "    <tr>\n",
       "      <th>max</th>\n",
       "      <td>603.000000</td>\n",
       "      <td>1449.000000</td>\n",
       "    </tr>\n",
       "  </tbody>\n",
       "</table>\n",
       "</div>"
      ],
      "text/plain": [
       "subreddit  TalesFromRetail  talesfromtechsupport\n",
       "count          2671.000000           2444.000000\n",
       "mean             33.465743             66.851473\n",
       "std              55.864183             85.108462\n",
       "min               0.000000              0.000000\n",
       "25%               1.000000             14.000000\n",
       "50%              12.000000             38.000000\n",
       "75%              40.000000             92.000000\n",
       "max             603.000000           1449.000000"
      ]
     },
     "execution_count": 56,
     "metadata": {},
     "output_type": "execute_result"
    }
   ],
   "source": [
    "# comments frequency\n",
    "tales.groupby('subreddit')['num_comments'].describe().T"
   ]
  },
  {
   "cell_type": "code",
   "execution_count": 15,
   "metadata": {},
   "outputs": [],
   "source": [
    "#############\n",
    "## FEATURE ##\n",
    "#############\n",
    "\n",
    "# document length, character count\n",
    "tales['char_length_selftext'] = tales['selftext'].str.len()"
   ]
  },
  {
   "cell_type": "code",
   "execution_count": 55,
   "metadata": {},
   "outputs": [
    {
     "data": {
      "text/html": [
       "<div>\n",
       "<style scoped>\n",
       "    .dataframe tbody tr th:only-of-type {\n",
       "        vertical-align: middle;\n",
       "    }\n",
       "\n",
       "    .dataframe tbody tr th {\n",
       "        vertical-align: top;\n",
       "    }\n",
       "\n",
       "    .dataframe thead th {\n",
       "        text-align: right;\n",
       "    }\n",
       "</style>\n",
       "<table border=\"1\" class=\"dataframe\">\n",
       "  <thead>\n",
       "    <tr style=\"text-align: right;\">\n",
       "      <th>subreddit</th>\n",
       "      <th>TalesFromRetail</th>\n",
       "      <th>talesfromtechsupport</th>\n",
       "    </tr>\n",
       "  </thead>\n",
       "  <tbody>\n",
       "    <tr>\n",
       "      <th>count</th>\n",
       "      <td>2671.000000</td>\n",
       "      <td>2444.000000</td>\n",
       "    </tr>\n",
       "    <tr>\n",
       "      <th>mean</th>\n",
       "      <td>2019.598652</td>\n",
       "      <td>2487.233224</td>\n",
       "    </tr>\n",
       "    <tr>\n",
       "      <th>std</th>\n",
       "      <td>1349.910407</td>\n",
       "      <td>1996.799268</td>\n",
       "    </tr>\n",
       "    <tr>\n",
       "      <th>min</th>\n",
       "      <td>49.000000</td>\n",
       "      <td>28.000000</td>\n",
       "    </tr>\n",
       "    <tr>\n",
       "      <th>25%</th>\n",
       "      <td>1101.000000</td>\n",
       "      <td>1237.000000</td>\n",
       "    </tr>\n",
       "    <tr>\n",
       "      <th>50%</th>\n",
       "      <td>1662.000000</td>\n",
       "      <td>1919.000000</td>\n",
       "    </tr>\n",
       "    <tr>\n",
       "      <th>75%</th>\n",
       "      <td>2557.000000</td>\n",
       "      <td>3030.750000</td>\n",
       "    </tr>\n",
       "    <tr>\n",
       "      <th>max</th>\n",
       "      <td>10759.000000</td>\n",
       "      <td>22060.000000</td>\n",
       "    </tr>\n",
       "  </tbody>\n",
       "</table>\n",
       "</div>"
      ],
      "text/plain": [
       "subreddit  TalesFromRetail  talesfromtechsupport\n",
       "count          2671.000000           2444.000000\n",
       "mean           2019.598652           2487.233224\n",
       "std            1349.910407           1996.799268\n",
       "min              49.000000             28.000000\n",
       "25%            1101.000000           1237.000000\n",
       "50%            1662.000000           1919.000000\n",
       "75%            2557.000000           3030.750000\n",
       "max           10759.000000          22060.000000"
      ]
     },
     "execution_count": 55,
     "metadata": {},
     "output_type": "execute_result"
    }
   ],
   "source": [
    "tales.groupby('subreddit')['char_length_selftext'].describe().T"
   ]
  },
  {
   "cell_type": "code",
   "execution_count": 16,
   "metadata": {},
   "outputs": [
    {
     "data": {
      "text/plain": [
       "count     5139.000000\n",
       "mean      2232.605954\n",
       "std       1708.887796\n",
       "min          9.000000\n",
       "25%       1167.500000\n",
       "50%       1775.000000\n",
       "75%       2741.500000\n",
       "max      22060.000000\n",
       "Name: char_length_selftext, dtype: float64"
      ]
     },
     "execution_count": 16,
     "metadata": {},
     "output_type": "execute_result"
    }
   ],
   "source": [
    "tales['char_length_selftext'].describe()"
   ]
  },
  {
   "cell_type": "code",
   "execution_count": 17,
   "metadata": {},
   "outputs": [
    {
     "data": {
      "text/html": [
       "<div>\n",
       "<style scoped>\n",
       "    .dataframe tbody tr th:only-of-type {\n",
       "        vertical-align: middle;\n",
       "    }\n",
       "\n",
       "    .dataframe tbody tr th {\n",
       "        vertical-align: top;\n",
       "    }\n",
       "\n",
       "    .dataframe thead th {\n",
       "        text-align: right;\n",
       "    }\n",
       "</style>\n",
       "<table border=\"1\" class=\"dataframe\">\n",
       "  <thead>\n",
       "    <tr style=\"text-align: right;\">\n",
       "      <th></th>\n",
       "      <th>title</th>\n",
       "      <th>selftext</th>\n",
       "      <th>subreddit</th>\n",
       "      <th>num_comments</th>\n",
       "      <th>timestamp</th>\n",
       "      <th>is_tech</th>\n",
       "      <th>char_length_selftext</th>\n",
       "    </tr>\n",
       "  </thead>\n",
       "  <tbody>\n",
       "    <tr>\n",
       "      <th>4916</th>\n",
       "      <td>Unplug everything.....except that</td>\n",
       "      <td>[deleted]</td>\n",
       "      <td>talesfromtechsupport</td>\n",
       "      <td>1</td>\n",
       "      <td>2020-06-28</td>\n",
       "      <td>1</td>\n",
       "      <td>9</td>\n",
       "    </tr>\n",
       "    <tr>\n",
       "      <th>5204</th>\n",
       "      <td>CEO Plug and Play</td>\n",
       "      <td>[deleted]</td>\n",
       "      <td>talesfromtechsupport</td>\n",
       "      <td>0</td>\n",
       "      <td>2020-04-27</td>\n",
       "      <td>1</td>\n",
       "      <td>9</td>\n",
       "    </tr>\n",
       "    <tr>\n",
       "      <th>4827</th>\n",
       "      <td>AS I SAID THE LATEST PUBLICALLY AVAILABLE</td>\n",
       "      <td>[deleted]</td>\n",
       "      <td>talesfromtechsupport</td>\n",
       "      <td>0</td>\n",
       "      <td>2020-07-20</td>\n",
       "      <td>1</td>\n",
       "      <td>9</td>\n",
       "    </tr>\n",
       "    <tr>\n",
       "      <th>3956</th>\n",
       "      <td>Counter-Strike: Global Offensive update for 2/17/21 (2/18/21 UTC, 1.37.8.1)</td>\n",
       "      <td>[deleted]</td>\n",
       "      <td>talesfromtechsupport</td>\n",
       "      <td>0</td>\n",
       "      <td>2021-02-17</td>\n",
       "      <td>1</td>\n",
       "      <td>9</td>\n",
       "    </tr>\n",
       "    <tr>\n",
       "      <th>4873</th>\n",
       "      <td>Micro SD card windows install.</td>\n",
       "      <td>[deleted]</td>\n",
       "      <td>talesfromtechsupport</td>\n",
       "      <td>6</td>\n",
       "      <td>2020-07-03</td>\n",
       "      <td>1</td>\n",
       "      <td>9</td>\n",
       "    </tr>\n",
       "  </tbody>\n",
       "</table>\n",
       "</div>"
      ],
      "text/plain": [
       "                                                                            title  \\\n",
       "4916                                            Unplug everything.....except that   \n",
       "5204                                                            CEO Plug and Play   \n",
       "4827                                    AS I SAID THE LATEST PUBLICALLY AVAILABLE   \n",
       "3956  Counter-Strike: Global Offensive update for 2/17/21 (2/18/21 UTC, 1.37.8.1)   \n",
       "4873                                               Micro SD card windows install.   \n",
       "\n",
       "       selftext             subreddit  num_comments  timestamp  is_tech  \\\n",
       "4916  [deleted]  talesfromtechsupport             1 2020-06-28        1   \n",
       "5204  [deleted]  talesfromtechsupport             0 2020-04-27        1   \n",
       "4827  [deleted]  talesfromtechsupport             0 2020-07-20        1   \n",
       "3956  [deleted]  talesfromtechsupport             0 2021-02-17        1   \n",
       "4873  [deleted]  talesfromtechsupport             6 2020-07-03        1   \n",
       "\n",
       "      char_length_selftext  \n",
       "4916                     9  \n",
       "5204                     9  \n",
       "4827                     9  \n",
       "3956                     9  \n",
       "4873                     9  "
      ]
     },
     "execution_count": 17,
     "metadata": {},
     "output_type": "execute_result"
    }
   ],
   "source": [
    "tales.sort_values('char_length_selftext').head()"
   ]
  },
  {
   "cell_type": "code",
   "execution_count": 18,
   "metadata": {},
   "outputs": [],
   "source": [
    "################\n",
    "## CLEAN DATA ##\n",
    "################\n",
    "\n",
    "# drop ['deleted'] from 'selftext'\n",
    "tales.drop(tales[tales['selftext'] == '[deleted]'].index, inplace = True)"
   ]
  },
  {
   "cell_type": "code",
   "execution_count": 19,
   "metadata": {},
   "outputs": [
    {
     "data": {
      "text/plain": [
       "(5115, 7)"
      ]
     },
     "execution_count": 19,
     "metadata": {},
     "output_type": "execute_result"
    }
   ],
   "source": [
    "tales.shape"
   ]
  },
  {
   "cell_type": "code",
   "execution_count": 20,
   "metadata": {},
   "outputs": [
    {
     "data": {
      "image/png": "[encoded data removed]",
      "text/plain": [
       "<Figure size 432x288 with 1 Axes>"
      ]
     },
     "metadata": {
      "needs_background": "light"
     },
     "output_type": "display_data"
    }
   ],
   "source": [
    "tales['char_length_selftext'].hist(bins = 100)\n",
    "plt.title('Frequency distribution: Post length (in characters)');"
   ]
  },
  {
   "cell_type": "code",
   "execution_count": 21,
   "metadata": {},
   "outputs": [
    {
     "data": {
      "image/png": "[encoded data removed]",
      "text/plain": [
       "<Figure size 432x288 with 1 Axes>"
      ]
     },
     "metadata": {
      "needs_background": "light"
     },
     "output_type": "display_data"
    }
   ],
   "source": [
    "sns.kdeplot(data = tales, x = 'char_length_selftext', hue = 'is_tech')\n",
    "plt.title('Distribution of post length (in characters), by subreddit');"
   ]
  },
  {
   "cell_type": "code",
   "execution_count": 22,
   "metadata": {},
   "outputs": [],
   "source": [
    "##############\n",
    "## FUNCTION ##\n",
    "##############\n",
    "\n",
    "# get word count for each document\n",
    "def word_count(string):\n",
    "    words = string.split()\n",
    "    return len(words)"
   ]
  },
  {
   "cell_type": "code",
   "execution_count": 23,
   "metadata": {},
   "outputs": [],
   "source": [
    "#############\n",
    "## FEATURE ##\n",
    "#############\n",
    "\n",
    "# document word count\n",
    "tales['word_count_selftext'] = tales['selftext'].apply(word_count)"
   ]
  },
  {
   "cell_type": "code",
   "execution_count": 28,
   "metadata": {},
   "outputs": [
    {
     "data": {
      "text/html": [
       "<div>\n",
       "<style scoped>\n",
       "    .dataframe tbody tr th:only-of-type {\n",
       "        vertical-align: middle;\n",
       "    }\n",
       "\n",
       "    .dataframe tbody tr th {\n",
       "        vertical-align: top;\n",
       "    }\n",
       "\n",
       "    .dataframe thead th {\n",
       "        text-align: right;\n",
       "    }\n",
       "</style>\n",
       "<table border=\"1\" class=\"dataframe\">\n",
       "  <thead>\n",
       "    <tr style=\"text-align: right;\">\n",
       "      <th>subreddit</th>\n",
       "      <th>TalesFromRetail</th>\n",
       "      <th>talesfromtechsupport</th>\n",
       "    </tr>\n",
       "  </thead>\n",
       "  <tbody>\n",
       "    <tr>\n",
       "      <th>count</th>\n",
       "      <td>2671.000000</td>\n",
       "      <td>2444.000000</td>\n",
       "    </tr>\n",
       "    <tr>\n",
       "      <th>mean</th>\n",
       "      <td>385.868589</td>\n",
       "      <td>453.605155</td>\n",
       "    </tr>\n",
       "    <tr>\n",
       "      <th>std</th>\n",
       "      <td>257.654823</td>\n",
       "      <td>359.800818</td>\n",
       "    </tr>\n",
       "    <tr>\n",
       "      <th>min</th>\n",
       "      <td>1.000000</td>\n",
       "      <td>5.000000</td>\n",
       "    </tr>\n",
       "    <tr>\n",
       "      <th>25%</th>\n",
       "      <td>210.000000</td>\n",
       "      <td>231.750000</td>\n",
       "    </tr>\n",
       "    <tr>\n",
       "      <th>50%</th>\n",
       "      <td>317.000000</td>\n",
       "      <td>353.000000</td>\n",
       "    </tr>\n",
       "    <tr>\n",
       "      <th>75%</th>\n",
       "      <td>489.000000</td>\n",
       "      <td>545.250000</td>\n",
       "    </tr>\n",
       "    <tr>\n",
       "      <th>max</th>\n",
       "      <td>2072.000000</td>\n",
       "      <td>3788.000000</td>\n",
       "    </tr>\n",
       "  </tbody>\n",
       "</table>\n",
       "</div>"
      ],
      "text/plain": [
       "subreddit  TalesFromRetail  talesfromtechsupport\n",
       "count          2671.000000           2444.000000\n",
       "mean            385.868589            453.605155\n",
       "std             257.654823            359.800818\n",
       "min               1.000000              5.000000\n",
       "25%             210.000000            231.750000\n",
       "50%             317.000000            353.000000\n",
       "75%             489.000000            545.250000\n",
       "max            2072.000000           3788.000000"
      ]
     },
     "execution_count": 28,
     "metadata": {},
     "output_type": "execute_result"
    }
   ],
   "source": [
    "# doc word count details by subreddit\n",
    "tales.groupby('subreddit')['word_count_selftext'].describe().T"
   ]
  },
  {
   "cell_type": "code",
   "execution_count": 25,
   "metadata": {},
   "outputs": [
    {
     "data": {
      "text/plain": [
       "count    5115.000000\n",
       "mean      418.233822\n",
       "std       312.485852\n",
       "min         1.000000\n",
       "25%       220.000000\n",
       "50%       336.000000\n",
       "75%       515.500000\n",
       "max      3788.000000\n",
       "Name: word_count_selftext, dtype: float64"
      ]
     },
     "execution_count": 25,
     "metadata": {},
     "output_type": "execute_result"
    }
   ],
   "source": [
    "tales['word_count_selftext'].describe()"
   ]
  },
  {
   "cell_type": "code",
   "execution_count": 29,
   "metadata": {},
   "outputs": [
    {
     "data": {
      "text/html": [
       "<div>\n",
       "<style scoped>\n",
       "    .dataframe tbody tr th:only-of-type {\n",
       "        vertical-align: middle;\n",
       "    }\n",
       "\n",
       "    .dataframe tbody tr th {\n",
       "        vertical-align: top;\n",
       "    }\n",
       "\n",
       "    .dataframe thead th {\n",
       "        text-align: right;\n",
       "    }\n",
       "</style>\n",
       "<table border=\"1\" class=\"dataframe\">\n",
       "  <thead>\n",
       "    <tr style=\"text-align: right;\">\n",
       "      <th></th>\n",
       "      <th>title</th>\n",
       "      <th>selftext</th>\n",
       "      <th>subreddit</th>\n",
       "      <th>num_comments</th>\n",
       "      <th>timestamp</th>\n",
       "      <th>is_tech</th>\n",
       "      <th>char_length_selftext</th>\n",
       "      <th>word_count_selftext</th>\n",
       "    </tr>\n",
       "  </thead>\n",
       "  <tbody>\n",
       "    <tr>\n",
       "      <th>2542</th>\n",
       "      <td>A Video About A Customer Who Visited Our Store Every Morning (View the link in the post)</td>\n",
       "      <td>[https://www.youtube.com/watch?v=jEPdt0MGuwc&amp;amp;t=2s](https://www.youtube.com/watch?v=jEPdt0MGuwc&amp;amp;t=2s)</td>\n",
       "      <td>TalesFromRetail</td>\n",
       "      <td>0</td>\n",
       "      <td>2019-12-02</td>\n",
       "      <td>0</td>\n",
       "      <td>108</td>\n",
       "      <td>1</td>\n",
       "    </tr>\n",
       "    <tr>\n",
       "      <th>3117</th>\n",
       "      <td>The account managers just left early to go on a team kayaking trip, support was asked to make an extra push on tickets to finish the week strong.</td>\n",
       "      <td>That's it. That's that post.</td>\n",
       "      <td>talesfromtechsupport</td>\n",
       "      <td>0</td>\n",
       "      <td>2021-07-30</td>\n",
       "      <td>1</td>\n",
       "      <td>28</td>\n",
       "      <td>5</td>\n",
       "    </tr>\n",
       "    <tr>\n",
       "      <th>5278</th>\n",
       "      <td>Self Service Implementation</td>\n",
       "      <td>How does a company profit from this?</td>\n",
       "      <td>talesfromtechsupport</td>\n",
       "      <td>0</td>\n",
       "      <td>2020-04-03</td>\n",
       "      <td>1</td>\n",
       "      <td>36</td>\n",
       "      <td>7</td>\n",
       "    </tr>\n",
       "    <tr>\n",
       "      <th>1150</th>\n",
       "      <td>Thesaecompany.com</td>\n",
       "      <td>Does anyone know about this website? Is it legit?</td>\n",
       "      <td>TalesFromRetail</td>\n",
       "      <td>0</td>\n",
       "      <td>2020-07-09</td>\n",
       "      <td>0</td>\n",
       "      <td>49</td>\n",
       "      <td>9</td>\n",
       "    </tr>\n",
       "    <tr>\n",
       "      <th>2269</th>\n",
       "      <td>A gift for all retail workers: The Santaland Diaries</td>\n",
       "      <td>https://www.youtube.com/watch?v=u5XLjG_S6eE\\n\\nKind of sums up every retail workers holiday season.</td>\n",
       "      <td>TalesFromRetail</td>\n",
       "      <td>0</td>\n",
       "      <td>2019-12-25</td>\n",
       "      <td>0</td>\n",
       "      <td>97</td>\n",
       "      <td>10</td>\n",
       "    </tr>\n",
       "  </tbody>\n",
       "</table>\n",
       "</div>"
      ],
      "text/plain": [
       "                                                                                                                                                  title  \\\n",
       "2542                                                           A Video About A Customer Who Visited Our Store Every Morning (View the link in the post)   \n",
       "3117  The account managers just left early to go on a team kayaking trip, support was asked to make an extra push on tickets to finish the week strong.   \n",
       "5278                                                                                                                        Self Service Implementation   \n",
       "1150                                                                                                                                  Thesaecompany.com   \n",
       "2269                                                                                               A gift for all retail workers: The Santaland Diaries   \n",
       "\n",
       "                                                                                                          selftext  \\\n",
       "2542  [https://www.youtube.com/watch?v=jEPdt0MGuwc&amp;t=2s](https://www.youtube.com/watch?v=jEPdt0MGuwc&amp;t=2s)   \n",
       "3117                                                                                  That's it. That's that post.   \n",
       "5278                                                                          How does a company profit from this?   \n",
       "1150                                                             Does anyone know about this website? Is it legit?   \n",
       "2269           https://www.youtube.com/watch?v=u5XLjG_S6eE\\n\\nKind of sums up every retail workers holiday season.   \n",
       "\n",
       "                 subreddit  num_comments  timestamp  is_tech  \\\n",
       "2542       TalesFromRetail             0 2019-12-02        0   \n",
       "3117  talesfromtechsupport             0 2021-07-30        1   \n",
       "5278  talesfromtechsupport             0 2020-04-03        1   \n",
       "1150       TalesFromRetail             0 2020-07-09        0   \n",
       "2269       TalesFromRetail             0 2019-12-25        0   \n",
       "\n",
       "      char_length_selftext  word_count_selftext  \n",
       "2542                   108                    1  \n",
       "3117                    28                    5  \n",
       "5278                    36                    7  \n",
       "1150                    49                    9  \n",
       "2269                    97                   10  "
      ]
     },
     "execution_count": 29,
     "metadata": {},
     "output_type": "execute_result"
    }
   ],
   "source": [
    "tales.sort_values('word_count_selftext').head()"
   ]
  },
  {
   "cell_type": "code",
   "execution_count": 30,
   "metadata": {},
   "outputs": [],
   "source": [
    "##############\n",
    "## FUNCTION ##\n",
    "##############\n",
    "\n",
    "# average word length in doc\n",
    "def avg_word_length(string):\n",
    "    words = string.split()\n",
    "    word_lengths = [len(word) for word in words]\n",
    "    avg_word_length = sum(word_lengths)/len(words)\n",
    "    return(avg_word_length)"
   ]
  },
  {
   "cell_type": "code",
   "execution_count": 31,
   "metadata": {},
   "outputs": [],
   "source": [
    "#############\n",
    "## FEATURE ##\n",
    "#############\n",
    "\n",
    "# average doc word length\n",
    "tales['avg_word_length_selftext'] = tales['selftext'].apply(avg_word_length)"
   ]
  },
  {
   "cell_type": "code",
   "execution_count": 33,
   "metadata": {},
   "outputs": [
    {
     "data": {
      "text/html": [
       "<div>\n",
       "<style scoped>\n",
       "    .dataframe tbody tr th:only-of-type {\n",
       "        vertical-align: middle;\n",
       "    }\n",
       "\n",
       "    .dataframe tbody tr th {\n",
       "        vertical-align: top;\n",
       "    }\n",
       "\n",
       "    .dataframe thead th {\n",
       "        text-align: right;\n",
       "    }\n",
       "</style>\n",
       "<table border=\"1\" class=\"dataframe\">\n",
       "  <thead>\n",
       "    <tr style=\"text-align: right;\">\n",
       "      <th>subreddit</th>\n",
       "      <th>TalesFromRetail</th>\n",
       "      <th>talesfromtechsupport</th>\n",
       "    </tr>\n",
       "  </thead>\n",
       "  <tbody>\n",
       "    <tr>\n",
       "      <th>count</th>\n",
       "      <td>2671.000000</td>\n",
       "      <td>2444.000000</td>\n",
       "    </tr>\n",
       "    <tr>\n",
       "      <th>mean</th>\n",
       "      <td>4.274840</td>\n",
       "      <td>4.432055</td>\n",
       "    </tr>\n",
       "    <tr>\n",
       "      <th>std</th>\n",
       "      <td>2.051062</td>\n",
       "      <td>0.595394</td>\n",
       "    </tr>\n",
       "    <tr>\n",
       "      <th>min</th>\n",
       "      <td>3.465116</td>\n",
       "      <td>3.683099</td>\n",
       "    </tr>\n",
       "    <tr>\n",
       "      <th>25%</th>\n",
       "      <td>4.062671</td>\n",
       "      <td>4.215028</td>\n",
       "    </tr>\n",
       "    <tr>\n",
       "      <th>50%</th>\n",
       "      <td>4.182812</td>\n",
       "      <td>4.371135</td>\n",
       "    </tr>\n",
       "    <tr>\n",
       "      <th>75%</th>\n",
       "      <td>4.314211</td>\n",
       "      <td>4.542461</td>\n",
       "    </tr>\n",
       "    <tr>\n",
       "      <th>max</th>\n",
       "      <td>108.000000</td>\n",
       "      <td>13.210106</td>\n",
       "    </tr>\n",
       "  </tbody>\n",
       "</table>\n",
       "</div>"
      ],
      "text/plain": [
       "subreddit  TalesFromRetail  talesfromtechsupport\n",
       "count          2671.000000           2444.000000\n",
       "mean              4.274840              4.432055\n",
       "std               2.051062              0.595394\n",
       "min               3.465116              3.683099\n",
       "25%               4.062671              4.215028\n",
       "50%               4.182812              4.371135\n",
       "75%               4.314211              4.542461\n",
       "max             108.000000             13.210106"
      ]
     },
     "execution_count": 33,
     "metadata": {},
     "output_type": "execute_result"
    }
   ],
   "source": [
    "tales.groupby('subreddit')['avg_word_length_selftext'].describe().T"
   ]
  },
  {
   "cell_type": "code",
   "execution_count": 34,
   "metadata": {},
   "outputs": [
    {
     "data": {
      "text/plain": [
       "count    5115.000000\n",
       "mean        4.349959\n",
       "std         1.540096\n",
       "min         3.465116\n",
       "25%         4.115990\n",
       "50%         4.263381\n",
       "75%         4.438710\n",
       "max       108.000000\n",
       "Name: avg_word_length_selftext, dtype: float64"
      ]
     },
     "execution_count": 34,
     "metadata": {},
     "output_type": "execute_result"
    }
   ],
   "source": [
    "tales['avg_word_length_selftext'].describe()"
   ]
  },
  {
   "cell_type": "code",
   "execution_count": 35,
   "metadata": {},
   "outputs": [],
   "source": [
    "#####################\n",
    "## TEXT PROCESSING ##\n",
    "#####################\n",
    "\n",
    "# replace youtube links with 'youtube'\n",
    "tales['title_text'] = tales['selftext'].apply(lambda s: ' '.join(re.sub(r'\\S+youtube\\S+', 'youtube', s).split()))\n",
    "\n",
    "# combine title with text\n",
    "tales['title_text'] = tales['title'] + \"\\n\" + tales['title_text']\n",
    "\n",
    "# lowercase\n",
    "tales['title_text'] = tales['title_text'].str.lower()"
   ]
  },
  {
   "cell_type": "code",
   "execution_count": 36,
   "metadata": {},
   "outputs": [],
   "source": [
    "#############\n",
    "## FEATURE ##\n",
    "#############\n",
    "\n",
    "# document length, character count\n",
    "tales['char_length_title_text'] = tales['title_text'].str.len()\n",
    "\n",
    "# document word count\n",
    "tales['word_count_title_text'] = tales['title_text'].apply(word_count)\n",
    "\n",
    "# average doc word length\n",
    "tales['avg_word_length_title_text'] = tales['title_text'].apply(avg_word_length)"
   ]
  },
  {
   "cell_type": "code",
   "execution_count": 37,
   "metadata": {},
   "outputs": [
    {
     "data": {
      "text/html": [
       "<div>\n",
       "<style scoped>\n",
       "    .dataframe tbody tr th:only-of-type {\n",
       "        vertical-align: middle;\n",
       "    }\n",
       "\n",
       "    .dataframe tbody tr th {\n",
       "        vertical-align: top;\n",
       "    }\n",
       "\n",
       "    .dataframe thead th {\n",
       "        text-align: right;\n",
       "    }\n",
       "</style>\n",
       "<table border=\"1\" class=\"dataframe\">\n",
       "  <thead>\n",
       "    <tr style=\"text-align: right;\">\n",
       "      <th>subreddit</th>\n",
       "      <th>TalesFromRetail</th>\n",
       "      <th>talesfromtechsupport</th>\n",
       "    </tr>\n",
       "  </thead>\n",
       "  <tbody>\n",
       "    <tr>\n",
       "      <th>count</th>\n",
       "      <td>2671.000000</td>\n",
       "      <td>2444.000000</td>\n",
       "    </tr>\n",
       "    <tr>\n",
       "      <th>mean</th>\n",
       "      <td>2048.219393</td>\n",
       "      <td>2504.754910</td>\n",
       "    </tr>\n",
       "    <tr>\n",
       "      <th>std</th>\n",
       "      <td>1341.705519</td>\n",
       "      <td>1980.143342</td>\n",
       "    </tr>\n",
       "    <tr>\n",
       "      <th>min</th>\n",
       "      <td>67.000000</td>\n",
       "      <td>64.000000</td>\n",
       "    </tr>\n",
       "    <tr>\n",
       "      <th>25%</th>\n",
       "      <td>1135.000000</td>\n",
       "      <td>1265.000000</td>\n",
       "    </tr>\n",
       "    <tr>\n",
       "      <th>50%</th>\n",
       "      <td>1696.000000</td>\n",
       "      <td>1940.000000</td>\n",
       "    </tr>\n",
       "    <tr>\n",
       "      <th>75%</th>\n",
       "      <td>2574.500000</td>\n",
       "      <td>3054.000000</td>\n",
       "    </tr>\n",
       "    <tr>\n",
       "      <th>max</th>\n",
       "      <td>10775.000000</td>\n",
       "      <td>21985.000000</td>\n",
       "    </tr>\n",
       "  </tbody>\n",
       "</table>\n",
       "</div>"
      ],
      "text/plain": [
       "subreddit  TalesFromRetail  talesfromtechsupport\n",
       "count          2671.000000           2444.000000\n",
       "mean           2048.219393           2504.754910\n",
       "std            1341.705519           1980.143342\n",
       "min              67.000000             64.000000\n",
       "25%            1135.000000           1265.000000\n",
       "50%            1696.000000           1940.000000\n",
       "75%            2574.500000           3054.000000\n",
       "max           10775.000000          21985.000000"
      ]
     },
     "execution_count": 37,
     "metadata": {},
     "output_type": "execute_result"
    }
   ],
   "source": [
    "tales.groupby('subreddit')['char_length_title_text'].describe().T"
   ]
  },
  {
   "cell_type": "code",
   "execution_count": 38,
   "metadata": {},
   "outputs": [
    {
     "data": {
      "text/html": [
       "<div>\n",
       "<style scoped>\n",
       "    .dataframe tbody tr th:only-of-type {\n",
       "        vertical-align: middle;\n",
       "    }\n",
       "\n",
       "    .dataframe tbody tr th {\n",
       "        vertical-align: top;\n",
       "    }\n",
       "\n",
       "    .dataframe thead th {\n",
       "        text-align: right;\n",
       "    }\n",
       "</style>\n",
       "<table border=\"1\" class=\"dataframe\">\n",
       "  <thead>\n",
       "    <tr style=\"text-align: right;\">\n",
       "      <th>subreddit</th>\n",
       "      <th>TalesFromRetail</th>\n",
       "      <th>talesfromtechsupport</th>\n",
       "    </tr>\n",
       "  </thead>\n",
       "  <tbody>\n",
       "    <tr>\n",
       "      <th>count</th>\n",
       "      <td>2671.000000</td>\n",
       "      <td>2444.000000</td>\n",
       "    </tr>\n",
       "    <tr>\n",
       "      <th>mean</th>\n",
       "      <td>393.855485</td>\n",
       "      <td>460.983224</td>\n",
       "    </tr>\n",
       "    <tr>\n",
       "      <th>std</th>\n",
       "      <td>257.926737</td>\n",
       "      <td>360.406048</td>\n",
       "    </tr>\n",
       "    <tr>\n",
       "      <th>min</th>\n",
       "      <td>10.000000</td>\n",
       "      <td>10.000000</td>\n",
       "    </tr>\n",
       "    <tr>\n",
       "      <th>25%</th>\n",
       "      <td>218.000000</td>\n",
       "      <td>238.000000</td>\n",
       "    </tr>\n",
       "    <tr>\n",
       "      <th>50%</th>\n",
       "      <td>326.000000</td>\n",
       "      <td>360.000000</td>\n",
       "    </tr>\n",
       "    <tr>\n",
       "      <th>75%</th>\n",
       "      <td>497.000000</td>\n",
       "      <td>554.000000</td>\n",
       "    </tr>\n",
       "    <tr>\n",
       "      <th>max</th>\n",
       "      <td>2077.000000</td>\n",
       "      <td>3800.000000</td>\n",
       "    </tr>\n",
       "  </tbody>\n",
       "</table>\n",
       "</div>"
      ],
      "text/plain": [
       "subreddit  TalesFromRetail  talesfromtechsupport\n",
       "count          2671.000000           2444.000000\n",
       "mean            393.855485            460.983224\n",
       "std             257.926737            360.406048\n",
       "min              10.000000             10.000000\n",
       "25%             218.000000            238.000000\n",
       "50%             326.000000            360.000000\n",
       "75%             497.000000            554.000000\n",
       "max            2077.000000           3800.000000"
      ]
     },
     "execution_count": 38,
     "metadata": {},
     "output_type": "execute_result"
    }
   ],
   "source": [
    "tales.groupby('subreddit')['word_count_title_text'].describe().T"
   ]
  },
  {
   "cell_type": "code",
   "execution_count": 39,
   "metadata": {},
   "outputs": [
    {
     "data": {
      "text/html": [
       "<div>\n",
       "<style scoped>\n",
       "    .dataframe tbody tr th:only-of-type {\n",
       "        vertical-align: middle;\n",
       "    }\n",
       "\n",
       "    .dataframe tbody tr th {\n",
       "        vertical-align: top;\n",
       "    }\n",
       "\n",
       "    .dataframe thead th {\n",
       "        text-align: right;\n",
       "    }\n",
       "</style>\n",
       "<table border=\"1\" class=\"dataframe\">\n",
       "  <thead>\n",
       "    <tr style=\"text-align: right;\">\n",
       "      <th>subreddit</th>\n",
       "      <th>TalesFromRetail</th>\n",
       "      <th>talesfromtechsupport</th>\n",
       "    </tr>\n",
       "  </thead>\n",
       "  <tbody>\n",
       "    <tr>\n",
       "      <th>count</th>\n",
       "      <td>2671.000000</td>\n",
       "      <td>2444.000000</td>\n",
       "    </tr>\n",
       "    <tr>\n",
       "      <th>mean</th>\n",
       "      <td>4.237840</td>\n",
       "      <td>4.435760</td>\n",
       "    </tr>\n",
       "    <tr>\n",
       "      <th>std</th>\n",
       "      <td>0.370495</td>\n",
       "      <td>0.582966</td>\n",
       "    </tr>\n",
       "    <tr>\n",
       "      <th>min</th>\n",
       "      <td>3.480769</td>\n",
       "      <td>3.686667</td>\n",
       "    </tr>\n",
       "    <tr>\n",
       "      <th>25%</th>\n",
       "      <td>4.071737</td>\n",
       "      <td>4.220764</td>\n",
       "    </tr>\n",
       "    <tr>\n",
       "      <th>50%</th>\n",
       "      <td>4.191489</td>\n",
       "      <td>4.377804</td>\n",
       "    </tr>\n",
       "    <tr>\n",
       "      <th>75%</th>\n",
       "      <td>4.324306</td>\n",
       "      <td>4.546099</td>\n",
       "    </tr>\n",
       "    <tr>\n",
       "      <th>max</th>\n",
       "      <td>10.900000</td>\n",
       "      <td>13.068063</td>\n",
       "    </tr>\n",
       "  </tbody>\n",
       "</table>\n",
       "</div>"
      ],
      "text/plain": [
       "subreddit  TalesFromRetail  talesfromtechsupport\n",
       "count          2671.000000           2444.000000\n",
       "mean              4.237840              4.435760\n",
       "std               0.370495              0.582966\n",
       "min               3.480769              3.686667\n",
       "25%               4.071737              4.220764\n",
       "50%               4.191489              4.377804\n",
       "75%               4.324306              4.546099\n",
       "max              10.900000             13.068063"
      ]
     },
     "execution_count": 39,
     "metadata": {},
     "output_type": "execute_result"
    }
   ],
   "source": [
    "tales.groupby('subreddit')['avg_word_length_title_text'].describe().T"
   ]
  },
  {
   "cell_type": "code",
   "execution_count": 48,
   "metadata": {},
   "outputs": [],
   "source": [
    "##############\n",
    "## FUNCTION ##\n",
    "##############\n",
    "\n",
    "stopwords = spacy.lang.en.stop_words.STOP_WORDS\n",
    "\n",
    "# create lemmatized, alpha-only text, stopwords removed\n",
    "def spacy_clean(string):\n",
    "    doc = nlp(string)\n",
    "    lemmas = [token.lemma_ for token in doc]\n",
    "    lemmas_clean = [lemma for lemma in lemmas if lemma.isalpha() and lemma not in stopwords]\n",
    "    return ' '.join(lemmas_clean)"
   ]
  },
  {
   "cell_type": "code",
   "execution_count": 49,
   "metadata": {},
   "outputs": [],
   "source": [
    "#####################\n",
    "## TEXT PROCESSING ##\n",
    "#####################\n",
    "\n",
    "# lemmatize text, remove numbers and stopwords\n",
    "tales['title_text_lemma'] = tales['title_text'].apply(spacy_clean)"
   ]
  },
  {
   "cell_type": "code",
   "execution_count": 50,
   "metadata": {},
   "outputs": [],
   "source": [
    "#############\n",
    "## FEATURE ##\n",
    "#############\n",
    "\n",
    "# character length based on lemma text column\n",
    "tales['char_length_lemma'] = tales['title_text_lemma'].str.len()\n",
    "\n",
    "# word count based on lemma text column\n",
    "tales['word_count_lemma'] = tales['title_text_lemma'].apply(word_count)\n",
    "\n",
    "# average doc word length\n",
    "tales['avg_word_length_lemma'] = tales['title_text_lemma'].apply(avg_word_length)"
   ]
  },
  {
   "cell_type": "code",
   "execution_count": 52,
   "metadata": {},
   "outputs": [
    {
     "data": {
      "text/html": [
       "<div>\n",
       "<style scoped>\n",
       "    .dataframe tbody tr th:only-of-type {\n",
       "        vertical-align: middle;\n",
       "    }\n",
       "\n",
       "    .dataframe tbody tr th {\n",
       "        vertical-align: top;\n",
       "    }\n",
       "\n",
       "    .dataframe thead th {\n",
       "        text-align: right;\n",
       "    }\n",
       "</style>\n",
       "<table border=\"1\" class=\"dataframe\">\n",
       "  <thead>\n",
       "    <tr style=\"text-align: right;\">\n",
       "      <th>subreddit</th>\n",
       "      <th>TalesFromRetail</th>\n",
       "      <th>talesfromtechsupport</th>\n",
       "    </tr>\n",
       "  </thead>\n",
       "  <tbody>\n",
       "    <tr>\n",
       "      <th>count</th>\n",
       "      <td>2671.000000</td>\n",
       "      <td>2444.000000</td>\n",
       "    </tr>\n",
       "    <tr>\n",
       "      <th>mean</th>\n",
       "      <td>895.815799</td>\n",
       "      <td>1164.896890</td>\n",
       "    </tr>\n",
       "    <tr>\n",
       "      <th>std</th>\n",
       "      <td>578.932037</td>\n",
       "      <td>922.794163</td>\n",
       "    </tr>\n",
       "    <tr>\n",
       "      <th>min</th>\n",
       "      <td>18.000000</td>\n",
       "      <td>42.000000</td>\n",
       "    </tr>\n",
       "    <tr>\n",
       "      <th>25%</th>\n",
       "      <td>501.000000</td>\n",
       "      <td>589.750000</td>\n",
       "    </tr>\n",
       "    <tr>\n",
       "      <th>50%</th>\n",
       "      <td>746.000000</td>\n",
       "      <td>901.500000</td>\n",
       "    </tr>\n",
       "    <tr>\n",
       "      <th>75%</th>\n",
       "      <td>1133.500000</td>\n",
       "      <td>1406.000000</td>\n",
       "    </tr>\n",
       "    <tr>\n",
       "      <th>max</th>\n",
       "      <td>4714.000000</td>\n",
       "      <td>10555.000000</td>\n",
       "    </tr>\n",
       "  </tbody>\n",
       "</table>\n",
       "</div>"
      ],
      "text/plain": [
       "subreddit  TalesFromRetail  talesfromtechsupport\n",
       "count          2671.000000           2444.000000\n",
       "mean            895.815799           1164.896890\n",
       "std             578.932037            922.794163\n",
       "min              18.000000             42.000000\n",
       "25%             501.000000            589.750000\n",
       "50%             746.000000            901.500000\n",
       "75%            1133.500000           1406.000000\n",
       "max            4714.000000          10555.000000"
      ]
     },
     "execution_count": 52,
     "metadata": {},
     "output_type": "execute_result"
    }
   ],
   "source": [
    "tales.groupby('subreddit')['char_length_lemma'].describe().T"
   ]
  },
  {
   "cell_type": "code",
   "execution_count": 53,
   "metadata": {},
   "outputs": [
    {
     "data": {
      "text/html": [
       "<div>\n",
       "<style scoped>\n",
       "    .dataframe tbody tr th:only-of-type {\n",
       "        vertical-align: middle;\n",
       "    }\n",
       "\n",
       "    .dataframe tbody tr th {\n",
       "        vertical-align: top;\n",
       "    }\n",
       "\n",
       "    .dataframe thead th {\n",
       "        text-align: right;\n",
       "    }\n",
       "</style>\n",
       "<table border=\"1\" class=\"dataframe\">\n",
       "  <thead>\n",
       "    <tr style=\"text-align: right;\">\n",
       "      <th>subreddit</th>\n",
       "      <th>TalesFromRetail</th>\n",
       "      <th>talesfromtechsupport</th>\n",
       "    </tr>\n",
       "  </thead>\n",
       "  <tbody>\n",
       "    <tr>\n",
       "      <th>count</th>\n",
       "      <td>2671.000000</td>\n",
       "      <td>2444.000000</td>\n",
       "    </tr>\n",
       "    <tr>\n",
       "      <th>mean</th>\n",
       "      <td>142.859229</td>\n",
       "      <td>179.393617</td>\n",
       "    </tr>\n",
       "    <tr>\n",
       "      <th>std</th>\n",
       "      <td>91.534900</td>\n",
       "      <td>140.055242</td>\n",
       "    </tr>\n",
       "    <tr>\n",
       "      <th>min</th>\n",
       "      <td>3.000000</td>\n",
       "      <td>5.000000</td>\n",
       "    </tr>\n",
       "    <tr>\n",
       "      <th>25%</th>\n",
       "      <td>80.000000</td>\n",
       "      <td>92.000000</td>\n",
       "    </tr>\n",
       "    <tr>\n",
       "      <th>50%</th>\n",
       "      <td>120.000000</td>\n",
       "      <td>140.000000</td>\n",
       "    </tr>\n",
       "    <tr>\n",
       "      <th>75%</th>\n",
       "      <td>182.000000</td>\n",
       "      <td>216.000000</td>\n",
       "    </tr>\n",
       "    <tr>\n",
       "      <th>max</th>\n",
       "      <td>694.000000</td>\n",
       "      <td>1502.000000</td>\n",
       "    </tr>\n",
       "  </tbody>\n",
       "</table>\n",
       "</div>"
      ],
      "text/plain": [
       "subreddit  TalesFromRetail  talesfromtechsupport\n",
       "count          2671.000000           2444.000000\n",
       "mean            142.859229            179.393617\n",
       "std              91.534900            140.055242\n",
       "min               3.000000              5.000000\n",
       "25%              80.000000             92.000000\n",
       "50%             120.000000            140.000000\n",
       "75%             182.000000            216.000000\n",
       "max             694.000000           1502.000000"
      ]
     },
     "execution_count": 53,
     "metadata": {},
     "output_type": "execute_result"
    }
   ],
   "source": [
    "tales.groupby('subreddit')['word_count_lemma'].describe().T"
   ]
  },
  {
   "cell_type": "code",
   "execution_count": 54,
   "metadata": {},
   "outputs": [
    {
     "data": {
      "text/html": [
       "<div>\n",
       "<style scoped>\n",
       "    .dataframe tbody tr th:only-of-type {\n",
       "        vertical-align: middle;\n",
       "    }\n",
       "\n",
       "    .dataframe tbody tr th {\n",
       "        vertical-align: top;\n",
       "    }\n",
       "\n",
       "    .dataframe thead th {\n",
       "        text-align: right;\n",
       "    }\n",
       "</style>\n",
       "<table border=\"1\" class=\"dataframe\">\n",
       "  <thead>\n",
       "    <tr style=\"text-align: right;\">\n",
       "      <th>subreddit</th>\n",
       "      <th>TalesFromRetail</th>\n",
       "      <th>talesfromtechsupport</th>\n",
       "    </tr>\n",
       "  </thead>\n",
       "  <tbody>\n",
       "    <tr>\n",
       "      <th>count</th>\n",
       "      <td>2671.000000</td>\n",
       "      <td>2444.000000</td>\n",
       "    </tr>\n",
       "    <tr>\n",
       "      <th>mean</th>\n",
       "      <td>5.290386</td>\n",
       "      <td>5.474973</td>\n",
       "    </tr>\n",
       "    <tr>\n",
       "      <th>std</th>\n",
       "      <td>0.351465</td>\n",
       "      <td>0.374634</td>\n",
       "    </tr>\n",
       "    <tr>\n",
       "      <th>min</th>\n",
       "      <td>4.268293</td>\n",
       "      <td>3.914634</td>\n",
       "    </tr>\n",
       "    <tr>\n",
       "      <th>25%</th>\n",
       "      <td>5.070707</td>\n",
       "      <td>5.227949</td>\n",
       "    </tr>\n",
       "    <tr>\n",
       "      <th>50%</th>\n",
       "      <td>5.271186</td>\n",
       "      <td>5.475595</td>\n",
       "    </tr>\n",
       "    <tr>\n",
       "      <th>75%</th>\n",
       "      <td>5.477824</td>\n",
       "      <td>5.704148</td>\n",
       "    </tr>\n",
       "    <tr>\n",
       "      <th>max</th>\n",
       "      <td>7.160000</td>\n",
       "      <td>7.600000</td>\n",
       "    </tr>\n",
       "  </tbody>\n",
       "</table>\n",
       "</div>"
      ],
      "text/plain": [
       "subreddit  TalesFromRetail  talesfromtechsupport\n",
       "count          2671.000000           2444.000000\n",
       "mean              5.290386              5.474973\n",
       "std               0.351465              0.374634\n",
       "min               4.268293              3.914634\n",
       "25%               5.070707              5.227949\n",
       "50%               5.271186              5.475595\n",
       "75%               5.477824              5.704148\n",
       "max               7.160000              7.600000"
      ]
     },
     "execution_count": 54,
     "metadata": {},
     "output_type": "execute_result"
    }
   ],
   "source": [
    "tales.groupby('subreddit')['mean_word_length_lemma'].describe().T"
   ]
  },
  {
   "cell_type": "markdown",
   "metadata": {},
   "source": [
    "---\n",
    "# Save data file"
   ]
  },
  {
   "cell_type": "code",
   "execution_count": 59,
   "metadata": {},
   "outputs": [],
   "source": [
    "tales.to_csv('../data/tales_clean.csv', index = False)"
   ]
  }
 ],
 "metadata": {
  "kernelspec": {
   "display_name": "Python 3",
   "language": "python",
   "name": "python3"
  },
  "language_info": {
   "codemirror_mode": {
    "name": "ipython",
    "version": 3
   },
   "file_extension": ".py",
   "mimetype": "text/x-python",
   "name": "python",
   "nbconvert_exporter": "python",
   "pygments_lexer": "ipython3",
   "version": "3.8.8"
  }
 },
 "nbformat": 4,
 "nbformat_minor": 4
}
