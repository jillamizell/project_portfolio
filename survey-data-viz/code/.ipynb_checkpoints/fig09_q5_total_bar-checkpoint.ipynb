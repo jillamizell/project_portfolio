{
 "cells": [
  {
   "cell_type": "code",
   "execution_count": 1,
   "id": "0981708b",
   "metadata": {},
   "outputs": [],
   "source": [
    "import pandas as pd\n",
    "import numpy as np\n",
    "import pickle\n",
    "import matplotlib.pyplot as plt\n",
    "import seaborn as sns\n",
    "from matplotlib import rcParams\n",
    "import matplotlib as mpl\n",
    "import warnings \n",
    "warnings.filterwarnings(\"ignore\") #Shhhh"
   ]
  },
  {
   "cell_type": "code",
   "execution_count": 2,
   "id": "2723f79e",
   "metadata": {},
   "outputs": [
    {
     "data": {
      "text/plain": [
       "'1.3.4'"
      ]
     },
     "execution_count": 2,
     "metadata": {},
     "output_type": "execute_result"
    }
   ],
   "source": [
    "pd.__version__"
   ]
  },
  {
   "cell_type": "code",
   "execution_count": 2,
   "id": "490ef073",
   "metadata": {},
   "outputs": [],
   "source": [
    "rcParams['font.family'] = 'Proxima Nova'\n",
    "text_color = '#323232'\n",
    "mpl.rcParams['text.color'] = text_color\n",
    "mpl.rcParams['axes.labelcolor'] = text_color\n",
    "mpl.rcParams['xtick.color'] = text_color\n",
    "mpl.rcParams['ytick.color'] = 'white'\n",
    "\n",
    "colors = {\n",
    "    'orange':'#f4731f',\n",
    "    'turquoise': '#41B6E6',\n",
    "    'purple': '#512D6D',\n",
    "    'blue': '#006298',\n",
    "    'l_blue': '#99D6EA',\n",
    "    'd_blue': '#01426A',\n",
    "    'green': '#78BE20'\n",
    "}"
   ]
  },
  {
   "cell_type": "code",
   "execution_count": 3,
   "id": "4c374f77",
   "metadata": {},
   "outputs": [],
   "source": [
    "with open('../data/q5.pickle', 'rb') as f:\n",
    "    data = pickle.load(f)"
   ]
  },
  {
   "cell_type": "code",
   "execution_count": 4,
   "id": "a0f8b69f",
   "metadata": {},
   "outputs": [
    {
     "data": {
      "text/plain": [
       "dict_keys(['total', 'q1_all_exp', 'q1_all_know_exp', 'q3_good', 'q4_1_bin', 'q4_2_bin', 'q4_3_bin', 'q4_4_bin', 'child_net_lt13', 'child_net_13up', 'child_none', 'age_cat', 'residential_area', 'employment_status', 'region', 'race_white_nh', 'race_hisp', 'race_black_nh', 'party_id'])"
      ]
     },
     "execution_count": 4,
     "metadata": {},
     "output_type": "execute_result"
    }
   ],
   "source": [
    "data.keys()"
   ]
  },
  {
   "cell_type": "code",
   "execution_count": 5,
   "id": "a2c6ef63",
   "metadata": {},
   "outputs": [],
   "source": [
    "total = data['total'].copy()"
   ]
  },
  {
   "cell_type": "code",
   "execution_count": 6,
   "id": "5fb87634",
   "metadata": {},
   "outputs": [
    {
     "data": {
      "text/html": [
       "<div>\n",
       "<style scoped>\n",
       "    .dataframe tbody tr th:only-of-type {\n",
       "        vertical-align: middle;\n",
       "    }\n",
       "\n",
       "    .dataframe tbody tr th {\n",
       "        vertical-align: top;\n",
       "    }\n",
       "\n",
       "    .dataframe thead th {\n",
       "        text-align: right;\n",
       "    }\n",
       "</style>\n",
       "<table border=\"1\" class=\"dataframe\">\n",
       "  <thead>\n",
       "    <tr style=\"text-align: right;\">\n",
       "      <th></th>\n",
       "      <th>q5_grpd</th>\n",
       "      <th>Labels</th>\n",
       "      <th>Prop</th>\n",
       "      <th>Freq</th>\n",
       "    </tr>\n",
       "  </thead>\n",
       "  <tbody>\n",
       "    <tr>\n",
       "      <th>0</th>\n",
       "      <td>1</td>\n",
       "      <td>Government</td>\n",
       "      <td>28.07</td>\n",
       "      <td>576</td>\n",
       "    </tr>\n",
       "    <tr>\n",
       "      <th>1</th>\n",
       "      <td>2</td>\n",
       "      <td>Employer</td>\n",
       "      <td>17.92</td>\n",
       "      <td>368</td>\n",
       "    </tr>\n",
       "    <tr>\n",
       "      <th>2</th>\n",
       "      <td>3</td>\n",
       "      <td>Individual support system</td>\n",
       "      <td>20.34</td>\n",
       "      <td>417</td>\n",
       "    </tr>\n",
       "    <tr>\n",
       "      <th>3</th>\n",
       "      <td>4</td>\n",
       "      <td>Parents' responsibility</td>\n",
       "      <td>19.76</td>\n",
       "      <td>405</td>\n",
       "    </tr>\n",
       "    <tr>\n",
       "      <th>4</th>\n",
       "      <td>5</td>\n",
       "      <td>Not sure/something else</td>\n",
       "      <td>13.90</td>\n",
       "      <td>285</td>\n",
       "    </tr>\n",
       "  </tbody>\n",
       "</table>\n",
       "</div>"
      ],
      "text/plain": [
       "   q5_grpd                     Labels   Prop  Freq\n",
       "0        1                 Government  28.07   576\n",
       "1        2                   Employer  17.92   368\n",
       "2        3  Individual support system  20.34   417\n",
       "3        4    Parents' responsibility  19.76   405\n",
       "4        5    Not sure/something else  13.90   285"
      ]
     },
     "execution_count": 6,
     "metadata": {},
     "output_type": "execute_result"
    }
   ],
   "source": [
    "total.reset_index(inplace = True)\n",
    "total"
   ]
  },
  {
   "cell_type": "code",
   "execution_count": 7,
   "id": "953b662f",
   "metadata": {},
   "outputs": [],
   "source": [
    "labels = dict(zip(total['q5_grpd'], total['Labels']))"
   ]
  },
  {
   "cell_type": "code",
   "execution_count": 8,
   "id": "7ffabf9e",
   "metadata": {},
   "outputs": [
    {
     "data": {
      "text/plain": [
       "{1: 'Government',\n",
       " 2: 'Employer',\n",
       " 3: 'Individual support system',\n",
       " 4: \"Parents' responsibility\",\n",
       " 5: 'Not sure/something else'}"
      ]
     },
     "execution_count": 8,
     "metadata": {},
     "output_type": "execute_result"
    }
   ],
   "source": [
    "labels"
   ]
  },
  {
   "cell_type": "code",
   "execution_count": 9,
   "id": "aae16658",
   "metadata": {},
   "outputs": [],
   "source": [
    "total.sort_values('Prop', ascending = True, inplace = True)"
   ]
  },
  {
   "cell_type": "code",
   "execution_count": 10,
   "id": "45ba91d3",
   "metadata": {},
   "outputs": [],
   "source": [
    "total.reset_index(drop = True, inplace = True)"
   ]
  },
  {
   "cell_type": "code",
   "execution_count": 11,
   "id": "6bfd634c",
   "metadata": {},
   "outputs": [
    {
     "data": {
      "text/html": [
       "<div>\n",
       "<style scoped>\n",
       "    .dataframe tbody tr th:only-of-type {\n",
       "        vertical-align: middle;\n",
       "    }\n",
       "\n",
       "    .dataframe tbody tr th {\n",
       "        vertical-align: top;\n",
       "    }\n",
       "\n",
       "    .dataframe thead th {\n",
       "        text-align: right;\n",
       "    }\n",
       "</style>\n",
       "<table border=\"1\" class=\"dataframe\">\n",
       "  <thead>\n",
       "    <tr style=\"text-align: right;\">\n",
       "      <th></th>\n",
       "      <th>q5_grpd</th>\n",
       "      <th>Labels</th>\n",
       "      <th>Prop</th>\n",
       "      <th>Freq</th>\n",
       "    </tr>\n",
       "  </thead>\n",
       "  <tbody>\n",
       "    <tr>\n",
       "      <th>0</th>\n",
       "      <td>5</td>\n",
       "      <td>Not sure/something else</td>\n",
       "      <td>13.90</td>\n",
       "      <td>285</td>\n",
       "    </tr>\n",
       "    <tr>\n",
       "      <th>1</th>\n",
       "      <td>2</td>\n",
       "      <td>Employer</td>\n",
       "      <td>17.92</td>\n",
       "      <td>368</td>\n",
       "    </tr>\n",
       "    <tr>\n",
       "      <th>2</th>\n",
       "      <td>4</td>\n",
       "      <td>Parents' responsibility</td>\n",
       "      <td>19.76</td>\n",
       "      <td>405</td>\n",
       "    </tr>\n",
       "    <tr>\n",
       "      <th>3</th>\n",
       "      <td>3</td>\n",
       "      <td>Individual support system</td>\n",
       "      <td>20.34</td>\n",
       "      <td>417</td>\n",
       "    </tr>\n",
       "    <tr>\n",
       "      <th>4</th>\n",
       "      <td>1</td>\n",
       "      <td>Government</td>\n",
       "      <td>28.07</td>\n",
       "      <td>576</td>\n",
       "    </tr>\n",
       "  </tbody>\n",
       "</table>\n",
       "</div>"
      ],
      "text/plain": [
       "   q5_grpd                     Labels   Prop  Freq\n",
       "0        5    Not sure/something else  13.90   285\n",
       "1        2                   Employer  17.92   368\n",
       "2        4    Parents' responsibility  19.76   405\n",
       "3        3  Individual support system  20.34   417\n",
       "4        1                 Government  28.07   576"
      ]
     },
     "execution_count": 11,
     "metadata": {},
     "output_type": "execute_result"
    }
   ],
   "source": [
    "total"
   ]
  },
  {
   "cell_type": "code",
   "execution_count": 12,
   "id": "d50a0f75",
   "metadata": {},
   "outputs": [
    {
     "data": {
      "text/html": [
       "<div>\n",
       "<style scoped>\n",
       "    .dataframe tbody tr th:only-of-type {\n",
       "        vertical-align: middle;\n",
       "    }\n",
       "\n",
       "    .dataframe tbody tr th {\n",
       "        vertical-align: top;\n",
       "    }\n",
       "\n",
       "    .dataframe thead th {\n",
       "        text-align: right;\n",
       "    }\n",
       "</style>\n",
       "<table border=\"1\" class=\"dataframe\">\n",
       "  <thead>\n",
       "    <tr style=\"text-align: right;\">\n",
       "      <th></th>\n",
       "      <th>q5_grpd</th>\n",
       "      <th>Labels</th>\n",
       "      <th>Prop</th>\n",
       "      <th>Freq</th>\n",
       "    </tr>\n",
       "  </thead>\n",
       "  <tbody>\n",
       "    <tr>\n",
       "      <th>0</th>\n",
       "      <td>5</td>\n",
       "      <td>Not sure/something else</td>\n",
       "      <td>14</td>\n",
       "      <td>285</td>\n",
       "    </tr>\n",
       "    <tr>\n",
       "      <th>1</th>\n",
       "      <td>2</td>\n",
       "      <td>Employer</td>\n",
       "      <td>18</td>\n",
       "      <td>368</td>\n",
       "    </tr>\n",
       "    <tr>\n",
       "      <th>2</th>\n",
       "      <td>4</td>\n",
       "      <td>Parents' responsibility</td>\n",
       "      <td>20</td>\n",
       "      <td>405</td>\n",
       "    </tr>\n",
       "    <tr>\n",
       "      <th>3</th>\n",
       "      <td>3</td>\n",
       "      <td>Individual support system</td>\n",
       "      <td>20</td>\n",
       "      <td>417</td>\n",
       "    </tr>\n",
       "    <tr>\n",
       "      <th>4</th>\n",
       "      <td>1</td>\n",
       "      <td>Government</td>\n",
       "      <td>28</td>\n",
       "      <td>576</td>\n",
       "    </tr>\n",
       "  </tbody>\n",
       "</table>\n",
       "</div>"
      ],
      "text/plain": [
       "   q5_grpd                     Labels  Prop  Freq\n",
       "0        5    Not sure/something else    14   285\n",
       "1        2                   Employer    18   368\n",
       "2        4    Parents' responsibility    20   405\n",
       "3        3  Individual support system    20   417\n",
       "4        1                 Government    28   576"
      ]
     },
     "execution_count": 12,
     "metadata": {},
     "output_type": "execute_result"
    }
   ],
   "source": [
    "total['Prop'] = round(total['Prop']).astype('int')\n",
    "total"
   ]
  },
  {
   "cell_type": "code",
   "execution_count": null,
   "id": "f8d38fb1",
   "metadata": {},
   "outputs": [],
   "source": []
  },
  {
   "cell_type": "code",
   "execution_count": 13,
   "id": "c8515f89",
   "metadata": {},
   "outputs": [
    {
     "data": {
      "image/png": "[encoded data removed]",
      "text/plain": [
       "<Figure size 540x288 with 2 Axes>"
      ]
     },
     "metadata": {},
     "output_type": "display_data"
    }
   ],
   "source": [
    "fig, ax = plt.subplots(figsize=(7.5, 4))\n",
    "fontsize_yticks = 12\n",
    "fontsize_title = 20\n",
    "fontsize_datalabs = 12\n",
    "fontsize_caption = 8\n",
    "\n",
    "ax.barh(total['Labels'], total['Prop'], color = list(colors.values())[0:5])\n",
    "ax.set_xticks([])\n",
    "ax.set_yticks(total.index)\n",
    "ax.set_yticklabels(labels=total['Labels'], fontsize=fontsize_yticks, color = text_color)\n",
    "fig.suptitle(\"Institution with a primary role in supporting\\nparents with childcare challenges\".upper(), \n",
    "             x = 0.5,\n",
    "             ha='center', va='top', fontsize=fontsize_title, fontproperties = 'DIN Condensed')\n",
    "\n",
    "for x,y in zip(total['Prop'], total['Labels']):\n",
    "    label = f\"{x}%\"\n",
    "    ax.annotate(label,\n",
    "                (x+1,y),\n",
    "                ha='center',\n",
    "                va='center',\n",
    "                fontsize=fontsize_datalabs,\n",
    "                weight = 'bold')  \n",
    "\n",
    "sns.despine(bottom=True)\n",
    "\n",
    "# create caption\n",
    "captext = '''Source: JUST Capital/Harris Omnibus Poll Q5. Sample: 2,052 US adults. Dates: August 9-11, 2021. \n",
    "See topline questionnaire in appendix for question wording.'''\n",
    "fig.text(x = 0, y = 0, \n",
    "         ha = 'left',\n",
    "         va = 'bottom',\n",
    "         ma = 'left',\n",
    "         s = captext, fontdict={'family':'Proxima Nova Condensed', 'fontsize':fontsize_caption})\n",
    "\n",
    "# insert logo image\n",
    "logo = plt.imread('../assets/Just Capital_Logo_RGB_500px_SSf.png')\n",
    "newax = fig.add_axes([0.88,0,0.1,0.1], anchor='SE', zorder=1)\n",
    "newax.imshow(logo)\n",
    "newax.axis('off')\n",
    "\n",
    "# save image file\n",
    "fig.tight_layout(rect = (0, 0.05, 1, 1))\n",
    "#plt.show();\n",
    "fig.savefig('../images/fig09.png', facecolor = \"white\", dpi=300, bbox_inches='tight');"
   ]
  },
  {
   "cell_type": "code",
   "execution_count": null,
   "id": "e27fbd91",
   "metadata": {},
   "outputs": [],
   "source": []
  }
 ],
 "metadata": {
  "kernelspec": {
   "display_name": "Python 3 (ipykernel)",
   "language": "python",
   "name": "python3"
  },
  "language_info": {
   "codemirror_mode": {
    "name": "ipython",
    "version": 3
   },
   "file_extension": ".py",
   "mimetype": "text/x-python",
   "name": "python",
   "nbconvert_exporter": "python",
   "pygments_lexer": "ipython3",
   "version": "3.9.7"
  }
 },
 "nbformat": 4,
 "nbformat_minor": 5
}
