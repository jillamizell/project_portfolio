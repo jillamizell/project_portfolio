{
 "cells": [
  {
   "cell_type": "code",
   "execution_count": 1,
   "metadata": {},
   "outputs": [],
   "source": [
    "import pandas as pd\n",
    "import numpy as np\n",
    "import matplotlib.pyplot as plt\n",
    "import seaborn as sns\n",
    "from matplotlib import rcParams\n",
    "import matplotlib as mpl\n",
    "import textwrap"
   ]
  },
  {
   "cell_type": "code",
   "execution_count": 14,
   "metadata": {},
   "outputs": [],
   "source": [
    "rcParams['font.family'] = 'Proxima Nova'\n",
    "text_color = '#323232'\n",
    "mpl.rcParams['text.color'] = text_color\n",
    "mpl.rcParams['axes.labelcolor'] = text_color\n",
    "mpl.rcParams['xtick.color'] = text_color\n",
    "mpl.rcParams['ytick.color'] = \"white\"\n",
    "\n",
    "colors = {\n",
    "    'orange':'#f4731f',\n",
    "    'turquoise': '#41B6E6',\n",
    "    'purple': '#512D6D',\n",
    "    'blue': '#006298',\n",
    "    'l_blue': '#99D6EA',\n",
    "    'd_blue': '#01426A',\n",
    "    'green': '#78BE20'\n",
    "}"
   ]
  },
  {
   "cell_type": "code",
   "execution_count": 3,
   "metadata": {},
   "outputs": [],
   "source": [
    "data = pd.read_csv('../data/q8_df.csv')"
   ]
  },
  {
   "cell_type": "code",
   "execution_count": 4,
   "metadata": {},
   "outputs": [],
   "source": [
    "data.drop(index = 13, inplace = True)"
   ]
  },
  {
   "cell_type": "code",
   "execution_count": 5,
   "metadata": {},
   "outputs": [],
   "source": [
    "data['ord'] = [0, 3, 2, 5, 6, 7, 8, 9, 10, 12, 13, 14, 15]\n",
    "data.set_index('ord', inplace = True)\n",
    "data.sort_index(inplace = True)\n",
    "data.loc[2, 'group'] = 'Has personally experienced recently'\n",
    "data.loc[3, 'group'] = 'Has not personally experienced recently'"
   ]
  },
  {
   "cell_type": "code",
   "execution_count": 6,
   "metadata": {},
   "outputs": [
    {
     "data": {
      "text/html": [
       "<div>\n",
       "<style scoped>\n",
       "    .dataframe tbody tr th:only-of-type {\n",
       "        vertical-align: middle;\n",
       "    }\n",
       "\n",
       "    .dataframe tbody tr th {\n",
       "        vertical-align: top;\n",
       "    }\n",
       "\n",
       "    .dataframe thead th {\n",
       "        text-align: right;\n",
       "    }\n",
       "</style>\n",
       "<table border=\"1\" class=\"dataframe\">\n",
       "  <thead>\n",
       "    <tr style=\"text-align: right;\">\n",
       "      <th></th>\n",
       "      <th>quest</th>\n",
       "      <th>group</th>\n",
       "      <th>prop_sup</th>\n",
       "    </tr>\n",
       "    <tr>\n",
       "      <th>ord</th>\n",
       "      <th></th>\n",
       "      <th></th>\n",
       "      <th></th>\n",
       "    </tr>\n",
       "  </thead>\n",
       "  <tbody>\n",
       "    <tr>\n",
       "      <th>0</th>\n",
       "      <td>total</td>\n",
       "      <td>total</td>\n",
       "      <td>78</td>\n",
       "    </tr>\n",
       "    <tr>\n",
       "      <th>2</th>\n",
       "      <td>q1_all_exp</td>\n",
       "      <td>Has personally experienced recently</td>\n",
       "      <td>86</td>\n",
       "    </tr>\n",
       "    <tr>\n",
       "      <th>3</th>\n",
       "      <td>q1_all_exp</td>\n",
       "      <td>Has not personally experienced recently</td>\n",
       "      <td>76</td>\n",
       "    </tr>\n",
       "    <tr>\n",
       "      <th>5</th>\n",
       "      <td>age_cat</td>\n",
       "      <td>18-24</td>\n",
       "      <td>73</td>\n",
       "    </tr>\n",
       "    <tr>\n",
       "      <th>6</th>\n",
       "      <td>age_cat</td>\n",
       "      <td>25-34</td>\n",
       "      <td>79</td>\n",
       "    </tr>\n",
       "    <tr>\n",
       "      <th>7</th>\n",
       "      <td>age_cat</td>\n",
       "      <td>35-44</td>\n",
       "      <td>89</td>\n",
       "    </tr>\n",
       "    <tr>\n",
       "      <th>8</th>\n",
       "      <td>age_cat</td>\n",
       "      <td>45-54</td>\n",
       "      <td>80</td>\n",
       "    </tr>\n",
       "    <tr>\n",
       "      <th>9</th>\n",
       "      <td>age_cat</td>\n",
       "      <td>55-64</td>\n",
       "      <td>77</td>\n",
       "    </tr>\n",
       "    <tr>\n",
       "      <th>10</th>\n",
       "      <td>age_cat</td>\n",
       "      <td>65+</td>\n",
       "      <td>70</td>\n",
       "    </tr>\n",
       "    <tr>\n",
       "      <th>12</th>\n",
       "      <td>q5_grpd</td>\n",
       "      <td>Government</td>\n",
       "      <td>89</td>\n",
       "    </tr>\n",
       "    <tr>\n",
       "      <th>13</th>\n",
       "      <td>q5_grpd</td>\n",
       "      <td>Employer</td>\n",
       "      <td>84</td>\n",
       "    </tr>\n",
       "    <tr>\n",
       "      <th>14</th>\n",
       "      <td>q5_grpd</td>\n",
       "      <td>Individual support system</td>\n",
       "      <td>69</td>\n",
       "    </tr>\n",
       "    <tr>\n",
       "      <th>15</th>\n",
       "      <td>q5_grpd</td>\n",
       "      <td>Parents' responsibility</td>\n",
       "      <td>65</td>\n",
       "    </tr>\n",
       "  </tbody>\n",
       "</table>\n",
       "</div>"
      ],
      "text/plain": [
       "          quest                                    group  prop_sup\n",
       "ord                                                               \n",
       "0         total                                    total        78\n",
       "2    q1_all_exp      Has personally experienced recently        86\n",
       "3    q1_all_exp  Has not personally experienced recently        76\n",
       "5       age_cat                                    18-24        73\n",
       "6       age_cat                                    25-34        79\n",
       "7       age_cat                                    35-44        89\n",
       "8       age_cat                                    45-54        80\n",
       "9       age_cat                                    55-64        77\n",
       "10      age_cat                                      65+        70\n",
       "12      q5_grpd                               Government        89\n",
       "13      q5_grpd                                 Employer        84\n",
       "14      q5_grpd                Individual support system        69\n",
       "15      q5_grpd                  Parents' responsibility        65"
      ]
     },
     "execution_count": 6,
     "metadata": {},
     "output_type": "execute_result"
    }
   ],
   "source": [
    "data"
   ]
  },
  {
   "cell_type": "code",
   "execution_count": 7,
   "metadata": {},
   "outputs": [],
   "source": [
    "subtitles = {1: \"Childcare Challenges\", 4: \"Age\", 11: \"Institution\"}"
   ]
  },
  {
   "cell_type": "code",
   "execution_count": 8,
   "metadata": {},
   "outputs": [
    {
     "data": {
      "text/plain": [
       "16"
      ]
     },
     "execution_count": 8,
     "metadata": {},
     "output_type": "execute_result"
    }
   ],
   "source": [
    "len(data) + len(subtitles)"
   ]
  },
  {
   "cell_type": "code",
   "execution_count": 9,
   "metadata": {},
   "outputs": [
    {
     "data": {
      "text/plain": [
       "[1, 2, 3, 4, 5, 6, 7, 8, 9, 10, 11, 12, 13, 14, 15]"
      ]
     },
     "execution_count": 9,
     "metadata": {},
     "output_type": "execute_result"
    }
   ],
   "source": [
    "list(range(1, 16))"
   ]
  },
  {
   "cell_type": "code",
   "execution_count": 10,
   "metadata": {},
   "outputs": [
    {
     "name": "stdout",
     "output_type": "stream",
     "text": [
      "false\n"
     ]
    }
   ],
   "source": [
    "if 1 in data.index:\n",
    "    print('true')\n",
    "else:\n",
    "    print('false')"
   ]
  },
  {
   "cell_type": "code",
   "execution_count": null,
   "metadata": {},
   "outputs": [],
   "source": []
  },
  {
   "cell_type": "code",
   "execution_count": 25,
   "metadata": {},
   "outputs": [
    {
     "data": {
      "image/png": "[encoded data removed]",
      "text/plain": [
       "<Figure size 540x576 with 17 Axes>"
      ]
     },
     "metadata": {},
     "output_type": "display_data"
    }
   ],
   "source": [
    "fig, ax = plt.subplots(nrows = 16, figsize=(7.5,8), sharex = True)\n",
    "fontsize_ylab = 12\n",
    "fontsize_datalab = 12\n",
    "nudge_datalab = 4\n",
    "fontsize_title = 20\n",
    "\n",
    "title = \"Majorities support federal paid leave policy\"\n",
    "fig.suptitle(title.upper(), ha='center', va='center', fontsize=fontsize_title, fontproperties = 'DIN Condensed')\n",
    "\n",
    "ax[0].set_xticks([])\n",
    "ax[0].set_yticks([0])\n",
    "ax[0].set_yticklabels(labels = ['Total'.upper()], fontsize = fontsize_ylab+4, weight = 'bold', color = text_color)\n",
    "ax[0].barh(0, data.loc[0]['prop_sup'], color = '#41B6E6')\n",
    "ax[0].annotate(f\"{data.loc[0]['prop_sup']}%\",\n",
    "               (data.loc[0]['prop_sup']+nudge_datalab, 0),\n",
    "               ha = 'center', va = 'center', fontsize = fontsize_datalab, #color = 'white', \n",
    "               weight = 'bold')\n",
    "\n",
    "for r in range(1,16):\n",
    "    if r in data.index:\n",
    "        x = data.loc[r]['prop_sup']\n",
    "        y = 0\n",
    "        ax[r].set_yticks([y])\n",
    "        ax[r].barh(y, x, color = '#41B6E6')\n",
    "        ax[r].set_yticklabels(labels=[data.loc[r]['group']], fontsize=fontsize_ylab, color = text_color)\n",
    "        ax[r].annotate(f\"{x}%\",\n",
    "                       (x+nudge_datalab, y),\n",
    "                       ha = 'center', va = 'center', \n",
    "                       fontsize = fontsize_datalab,\n",
    "                       #color = 'white', \n",
    "                       weight = 'bold')\n",
    "    else:\n",
    "        ax[r].set_yticks([0])\n",
    "        ax[r].set_yticklabels(labels = [subtitles[r].upper()], fontsize = fontsize_ylab+4, weight = 'bold', \n",
    "                              color = text_color)\n",
    "        ax[r].barh(0,0)\n",
    "\n",
    "\n",
    "\n",
    "sns.despine(bottom=True, left = True)\n",
    "fig.tight_layout(rect = [0,0.05,1,1], h_pad = 0)\n",
    "\n",
    "# create caption\n",
    "captext = '''Source: JUST Capital/Harris Omnibus Poll Q8. Sample: 2,052 US adults. Dates: August 9-11, 2021. \n",
    "See topline questionnaire in appendix for question wording.'''\n",
    "fig.text(x = 0, y = 0, \n",
    "         ha = 'left', va = 'bottom',\n",
    "         s = captext, fontdict={'family':'Proxima Nova Condensed', 'fontsize':8})\n",
    "\n",
    "# insert logo image\n",
    "logo = plt.imread('../assets/Just Capital_Logo_RGB_500px_SSf.png')\n",
    "newax = fig.add_axes([0.85,0,0.1,0.1], anchor='SE', zorder=1)\n",
    "newax.imshow(logo)\n",
    "newax.axis('off')\n",
    "\n",
    "# save image file\n",
    "#plt.show();\n",
    "fig.savefig('../images/fig13.png', facecolor = \"white\", dpi=300, bbox_inches='tight');"
   ]
  },
  {
   "cell_type": "code",
   "execution_count": null,
   "metadata": {},
   "outputs": [],
   "source": []
  },
  {
   "cell_type": "code",
   "execution_count": null,
   "metadata": {},
   "outputs": [],
   "source": []
  }
 ],
 "metadata": {
  "kernelspec": {
   "display_name": "Python 3 (ipykernel)",
   "language": "python",
   "name": "python3"
  },
  "language_info": {
   "codemirror_mode": {
    "name": "ipython",
    "version": 3
   },
   "file_extension": ".py",
   "mimetype": "text/x-python",
   "name": "python",
   "nbconvert_exporter": "python",
   "pygments_lexer": "ipython3",
   "version": "3.9.7"
  }
 },
 "nbformat": 4,
 "nbformat_minor": 4
}
