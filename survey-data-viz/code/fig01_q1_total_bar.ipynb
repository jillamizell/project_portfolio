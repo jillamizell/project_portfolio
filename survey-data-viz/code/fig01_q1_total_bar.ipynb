{
 "cells": [
  {
   "cell_type": "code",
   "execution_count": 1,
   "metadata": {},
   "outputs": [],
   "source": [
    "import pandas as pd\n",
    "import numpy as np\n",
    "import matplotlib.pyplot as plt\n",
    "import seaborn as sns\n",
    "from matplotlib import rcParams\n",
    "import matplotlib as mpl\n",
    "import textwrap"
   ]
  },
  {
   "cell_type": "code",
   "execution_count": 2,
   "metadata": {},
   "outputs": [],
   "source": [
    "pd.options.display.max_colwidth = 500"
   ]
  },
  {
   "cell_type": "code",
   "execution_count": 3,
   "metadata": {},
   "outputs": [],
   "source": [
    "rcParams['font.family'] = 'Proxima Nova'\n",
    "text_color = '#323232'\n",
    "mpl.rcParams['text.color'] = text_color\n",
    "mpl.rcParams['axes.labelcolor'] = text_color\n",
    "mpl.rcParams['xtick.color'] = text_color\n",
    "mpl.rcParams['ytick.color'] = 'white'"
   ]
  },
  {
   "cell_type": "code",
   "execution_count": 4,
   "metadata": {},
   "outputs": [],
   "source": [
    "data = pd.read_csv('../data/q1_df.csv')"
   ]
  },
  {
   "cell_type": "code",
   "execution_count": 5,
   "metadata": {},
   "outputs": [
    {
     "data": {
      "text/html": [
       "<div>\n",
       "<style scoped>\n",
       "    .dataframe tbody tr th:only-of-type {\n",
       "        vertical-align: middle;\n",
       "    }\n",
       "\n",
       "    .dataframe tbody tr th {\n",
       "        vertical-align: top;\n",
       "    }\n",
       "\n",
       "    .dataframe thead th {\n",
       "        text-align: right;\n",
       "    }\n",
       "</style>\n",
       "<table border=\"1\" class=\"dataframe\">\n",
       "  <thead>\n",
       "    <tr style=\"text-align: right;\">\n",
       "      <th></th>\n",
       "      <th>not_heard</th>\n",
       "      <th>heard</th>\n",
       "      <th>know_someone</th>\n",
       "      <th>experienced</th>\n",
       "      <th>label</th>\n",
       "    </tr>\n",
       "  </thead>\n",
       "  <tbody>\n",
       "    <tr>\n",
       "      <th>0</th>\n",
       "      <td>34</td>\n",
       "      <td>35</td>\n",
       "      <td>21</td>\n",
       "      <td>8</td>\n",
       "      <td>Long waitlists for placement in childcare facilities because of lack of providers or staff</td>\n",
       "    </tr>\n",
       "    <tr>\n",
       "      <th>1</th>\n",
       "      <td>17</td>\n",
       "      <td>38</td>\n",
       "      <td>31</td>\n",
       "      <td>12</td>\n",
       "      <td>High and rising costs of childcare</td>\n",
       "    </tr>\n",
       "    <tr>\n",
       "      <th>2</th>\n",
       "      <td>23</td>\n",
       "      <td>41</td>\n",
       "      <td>25</td>\n",
       "      <td>9</td>\n",
       "      <td>People leaving jobs or switching to part-time work to provide childcare in their families</td>\n",
       "    </tr>\n",
       "    <tr>\n",
       "      <th>3</th>\n",
       "      <td>35</td>\n",
       "      <td>34</td>\n",
       "      <td>21</td>\n",
       "      <td>9</td>\n",
       "      <td>People delaying having children or having fewer children due to childcare considerations</td>\n",
       "    </tr>\n",
       "    <tr>\n",
       "      <th>4</th>\n",
       "      <td>18</td>\n",
       "      <td>40</td>\n",
       "      <td>29</td>\n",
       "      <td>10</td>\n",
       "      <td>People missing work to provide childcare in their families</td>\n",
       "    </tr>\n",
       "  </tbody>\n",
       "</table>\n",
       "</div>"
      ],
      "text/plain": [
       "   not_heard  heard  know_someone  experienced  \\\n",
       "0         34     35            21            8   \n",
       "1         17     38            31           12   \n",
       "2         23     41            25            9   \n",
       "3         35     34            21            9   \n",
       "4         18     40            29           10   \n",
       "\n",
       "                                                                                        label  \n",
       "0  Long waitlists for placement in childcare facilities because of lack of providers or staff  \n",
       "1                                                          High and rising costs of childcare  \n",
       "2   People leaving jobs or switching to part-time work to provide childcare in their families  \n",
       "3    People delaying having children or having fewer children due to childcare considerations  \n",
       "4                                  People missing work to provide childcare in their families  "
      ]
     },
     "execution_count": 5,
     "metadata": {},
     "output_type": "execute_result"
    }
   ],
   "source": [
    "data.head()"
   ]
  },
  {
   "cell_type": "code",
   "execution_count": 6,
   "metadata": {},
   "outputs": [],
   "source": [
    "data['ekh'] = data['experienced'] + data['know_someone'] + data['heard']\n",
    "sub = data[['label', 'ekh']].sort_values('ekh')\n",
    "sub.reset_index(inplace = True, drop = True)"
   ]
  },
  {
   "cell_type": "code",
   "execution_count": 7,
   "metadata": {},
   "outputs": [
    {
     "data": {
      "text/html": [
       "<div>\n",
       "<style scoped>\n",
       "    .dataframe tbody tr th:only-of-type {\n",
       "        vertical-align: middle;\n",
       "    }\n",
       "\n",
       "    .dataframe tbody tr th {\n",
       "        vertical-align: top;\n",
       "    }\n",
       "\n",
       "    .dataframe thead th {\n",
       "        text-align: right;\n",
       "    }\n",
       "</style>\n",
       "<table border=\"1\" class=\"dataframe\">\n",
       "  <thead>\n",
       "    <tr style=\"text-align: right;\">\n",
       "      <th></th>\n",
       "      <th>label</th>\n",
       "      <th>ekh</th>\n",
       "    </tr>\n",
       "  </thead>\n",
       "  <tbody>\n",
       "    <tr>\n",
       "      <th>0</th>\n",
       "      <td>Long waitlists for placement in childcare facilities because of lack of providers or staff</td>\n",
       "      <td>64</td>\n",
       "    </tr>\n",
       "    <tr>\n",
       "      <th>1</th>\n",
       "      <td>People delaying having children or having fewer children due to childcare considerations</td>\n",
       "      <td>64</td>\n",
       "    </tr>\n",
       "    <tr>\n",
       "      <th>2</th>\n",
       "      <td>People leaving jobs or switching to part-time work to provide childcare in their families</td>\n",
       "      <td>75</td>\n",
       "    </tr>\n",
       "    <tr>\n",
       "      <th>3</th>\n",
       "      <td>People missing work to provide childcare in their families</td>\n",
       "      <td>79</td>\n",
       "    </tr>\n",
       "    <tr>\n",
       "      <th>4</th>\n",
       "      <td>High and rising costs of childcare</td>\n",
       "      <td>81</td>\n",
       "    </tr>\n",
       "  </tbody>\n",
       "</table>\n",
       "</div>"
      ],
      "text/plain": [
       "                                                                                        label  \\\n",
       "0  Long waitlists for placement in childcare facilities because of lack of providers or staff   \n",
       "1    People delaying having children or having fewer children due to childcare considerations   \n",
       "2   People leaving jobs or switching to part-time work to provide childcare in their families   \n",
       "3                                  People missing work to provide childcare in their families   \n",
       "4                                                          High and rising costs of childcare   \n",
       "\n",
       "   ekh  \n",
       "0   64  \n",
       "1   64  \n",
       "2   75  \n",
       "3   79  \n",
       "4   81  "
      ]
     },
     "execution_count": 7,
     "metadata": {},
     "output_type": "execute_result"
    }
   ],
   "source": [
    "sub"
   ]
  },
  {
   "cell_type": "code",
   "execution_count": 19,
   "metadata": {},
   "outputs": [
    {
     "data": {
      "text/plain": [
       "90"
      ]
     },
     "execution_count": 19,
     "metadata": {},
     "output_type": "execute_result"
    }
   ],
   "source": [
    "max([len(x) for x in sub['label']])"
   ]
  },
  {
   "cell_type": "code",
   "execution_count": 8,
   "metadata": {},
   "outputs": [
    {
     "data": {
      "text/plain": [
       "array(['Long waitlists for placement in childcare facilities because of lack of providers or staff',\n",
       "       'People delaying having children or having fewer children due to childcare considerations',\n",
       "       'People leaving jobs or switching to part-time work to provide childcare in their families',\n",
       "       'People missing work to provide childcare in their families',\n",
       "       'High and rising costs of childcare'], dtype=object)"
      ]
     },
     "execution_count": 8,
     "metadata": {},
     "output_type": "execute_result"
    }
   ],
   "source": [
    "sub['label'].values"
   ]
  },
  {
   "cell_type": "code",
   "execution_count": 9,
   "metadata": {},
   "outputs": [
    {
     "data": {
      "text/plain": [
       "0    Long waitlists for placement in childcare\\nfacilities because of lack of providers or staff\n",
       "1      People delaying having children or having fewer\\nchildren due to childcare considerations\n",
       "2     People leaving jobs or switching to part-time work\\nto provide childcare in their families\n",
       "3                                    People missing work to provide childcare in their\\nfamilies\n",
       "4                                                             High and rising costs of childcare\n",
       "Name: label, dtype: object"
      ]
     },
     "execution_count": 9,
     "metadata": {},
     "output_type": "execute_result"
    }
   ],
   "source": [
    "sub['label'].apply(lambda x: textwrap.fill(x, 50))"
   ]
  },
  {
   "cell_type": "code",
   "execution_count": 15,
   "metadata": {},
   "outputs": [
    {
     "data": {
      "image/png": "[encoded data removed]",
      "text/plain": [
       "<Figure size 540x288 with 2 Axes>"
      ]
     },
     "metadata": {},
     "output_type": "display_data"
    }
   ],
   "source": [
    "fig, ax = plt.subplots(figsize=(7.5,4))\n",
    "\n",
    "fontsize_yticks = 12\n",
    "fontsize_title = 20\n",
    "fontsize_datalabs = 12\n",
    "fontsize_caption = 8\n",
    "\n",
    "ax.barh(sub['label'], sub['ekh'], color = '#41B6E6')\n",
    "ax.set_xticks([])\n",
    "ax.set_xlim(xmax = sub['ekh'].max()+5)\n",
    "ax.set_yticks(sub.index)\n",
    "ax.set_yticklabels(labels=sub['label'].apply(lambda x: textwrap.fill(x, 50)), \n",
    "                   fontsize=fontsize_yticks, color = text_color)\n",
    "fig.suptitle(\"Majorities are aware of caregiving challenges\".upper(), \n",
    "             x = 0.5, y = 1,\n",
    "             ha='center', va='top', \n",
    "             fontsize=fontsize_title, fontproperties = 'DIN Condensed')\n",
    "\n",
    "for x,y in zip(sub['ekh'], sub['label']):\n",
    "    label = f\"{x}%\"\n",
    "    ax.annotate(label,\n",
    "                (x+5,y),\n",
    "                ha='center', va='center',\n",
    "                fontsize=fontsize_datalabs,\n",
    "                weight = 'bold')  \n",
    "\n",
    "sns.despine(bottom=True)\n",
    "fig.tight_layout(rect = [0,0.12,1,1])\n",
    "\n",
    "# create caption\n",
    "captext = '''Source: JUST Capital/Harris Omnibus Poll Q1. Sample: 2,052 US adults. Dates: August 9-11, 2021. \n",
    "Proportion of survey respondents that have heard about, know someone, or personally experienced challenge recently.\n",
    "See topline questionnaire in appendix for question wording.'''\n",
    "fig.text(x = 0, y = 0, \n",
    "         ha = 'left', va = \"bottom\",\n",
    "         s = captext, fontdict={'family':'Proxima Nova Condensed', 'fontsize':fontsize_caption})\n",
    "\n",
    "# insert logo image\n",
    "logo = plt.imread('../assets/Just Capital_Logo_RGB_500px_SSf.png')\n",
    "newax = fig.add_axes([0.9,0,0.1,0.1], anchor='SE', zorder=1)\n",
    "newax.imshow(logo)\n",
    "newax.axis('off')\n",
    "\n",
    "# save image file\n",
    "#plt.show();\n",
    "fig.savefig('../images/fig01.png', transparent = True, dpi=300, bbox_inches='tight');"
   ]
  },
  {
   "cell_type": "code",
   "execution_count": null,
   "metadata": {},
   "outputs": [],
   "source": []
  },
  {
   "cell_type": "code",
   "execution_count": null,
   "metadata": {},
   "outputs": [],
   "source": []
  }
 ],
 "metadata": {
  "kernelspec": {
   "display_name": "Python 3 (ipykernel)",
   "language": "python",
   "name": "python3"
  },
  "language_info": {
   "codemirror_mode": {
    "name": "ipython",
    "version": 3
   },
   "file_extension": ".py",
   "mimetype": "text/x-python",
   "name": "python",
   "nbconvert_exporter": "python",
   "pygments_lexer": "ipython3",
   "version": "3.9.7"
  }
 },
 "nbformat": 4,
 "nbformat_minor": 4
}
