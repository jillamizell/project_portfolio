{
 "cells": [
  {
   "cell_type": "code",
   "execution_count": 1,
   "id": "0981708b",
   "metadata": {},
   "outputs": [],
   "source": [
    "import pandas as pd\n",
    "import numpy as np\n",
    "import pickle\n",
    "import matplotlib.pyplot as plt\n",
    "import seaborn as sns\n",
    "from matplotlib import rcParams\n",
    "import matplotlib as mpl"
   ]
  },
  {
   "cell_type": "code",
   "execution_count": 2,
   "id": "490ef073",
   "metadata": {},
   "outputs": [],
   "source": [
    "rcParams['font.family'] = 'Proxima Nova'\n",
    "text_color = '#323232'\n",
    "mpl.rcParams['text.color'] = text_color\n",
    "mpl.rcParams['axes.labelcolor'] = text_color\n",
    "mpl.rcParams['xtick.color'] = text_color\n",
    "mpl.rcParams['ytick.color'] = 'white'\n",
    "\n",
    "colors = {\n",
    "    'orange':'#f4731f',\n",
    "    'turquoise': '#41B6E6',\n",
    "    'purple': '#512D6D',\n",
    "    'blue': '#006298',\n",
    "    'l_blue': '#99D6EA',\n",
    "    'd_blue': '#01426A',\n",
    "    'green': '#78BE20'\n",
    "}"
   ]
  },
  {
   "cell_type": "code",
   "execution_count": 3,
   "id": "4c374f77",
   "metadata": {},
   "outputs": [],
   "source": [
    "data = pd.DataFrame({\n",
    "    'labels': ['Total', 'Parent of child age 12 or under', 'Parent of child age 13 or older', 'No children'],\n",
    "    'prop': [59, 85, 56, 52]\n",
    "})"
   ]
  },
  {
   "cell_type": "code",
   "execution_count": 4,
   "id": "34eded74",
   "metadata": {},
   "outputs": [
    {
     "data": {
      "text/html": [
       "<div>\n",
       "<style scoped>\n",
       "    .dataframe tbody tr th:only-of-type {\n",
       "        vertical-align: middle;\n",
       "    }\n",
       "\n",
       "    .dataframe tbody tr th {\n",
       "        vertical-align: top;\n",
       "    }\n",
       "\n",
       "    .dataframe thead th {\n",
       "        text-align: right;\n",
       "    }\n",
       "</style>\n",
       "<table border=\"1\" class=\"dataframe\">\n",
       "  <thead>\n",
       "    <tr style=\"text-align: right;\">\n",
       "      <th></th>\n",
       "      <th>labels</th>\n",
       "      <th>prop</th>\n",
       "    </tr>\n",
       "  </thead>\n",
       "  <tbody>\n",
       "    <tr>\n",
       "      <th>0</th>\n",
       "      <td>Total</td>\n",
       "      <td>59</td>\n",
       "    </tr>\n",
       "    <tr>\n",
       "      <th>1</th>\n",
       "      <td>Parent of child age 12 or under</td>\n",
       "      <td>85</td>\n",
       "    </tr>\n",
       "    <tr>\n",
       "      <th>2</th>\n",
       "      <td>Parent of child age 13 or older</td>\n",
       "      <td>56</td>\n",
       "    </tr>\n",
       "    <tr>\n",
       "      <th>3</th>\n",
       "      <td>No children</td>\n",
       "      <td>52</td>\n",
       "    </tr>\n",
       "  </tbody>\n",
       "</table>\n",
       "</div>"
      ],
      "text/plain": [
       "                            labels  prop\n",
       "0                            Total    59\n",
       "1  Parent of child age 12 or under    85\n",
       "2  Parent of child age 13 or older    56\n",
       "3                      No children    52"
      ]
     },
     "execution_count": 4,
     "metadata": {},
     "output_type": "execute_result"
    }
   ],
   "source": [
    "data"
   ]
  },
  {
   "cell_type": "code",
   "execution_count": 5,
   "id": "a0f8b69f",
   "metadata": {},
   "outputs": [
    {
     "data": {
      "text/plain": [
       "Index(['labels', 'prop'], dtype='object')"
      ]
     },
     "execution_count": 5,
     "metadata": {},
     "output_type": "execute_result"
    }
   ],
   "source": [
    "data.keys()"
   ]
  },
  {
   "cell_type": "code",
   "execution_count": 6,
   "id": "f8d38fb1",
   "metadata": {},
   "outputs": [
    {
     "data": {
      "text/plain": [
       "85"
      ]
     },
     "execution_count": 6,
     "metadata": {},
     "output_type": "execute_result"
    }
   ],
   "source": [
    "data['prop'].max()"
   ]
  },
  {
   "cell_type": "code",
   "execution_count": 9,
   "id": "c8515f89",
   "metadata": {
    "scrolled": false
   },
   "outputs": [
    {
     "data": {
      "image/png": "[encoded data removed]",
      "text/plain": [
       "<Figure size 540x252 with 2 Axes>"
      ]
     },
     "metadata": {},
     "output_type": "display_data"
    }
   ],
   "source": [
    "fig, ax = plt.subplots(figsize=(7.5, 3.5))\n",
    "fontsize_yticks = 12\n",
    "fontsize_title = 20\n",
    "fontsize_datalabs = 12\n",
    "fontsize_caption = 8\n",
    "\n",
    "ax.barh(data['labels'], data['prop'], color = colors['blue'])\n",
    "ax.set_xticks([])\n",
    "ax.set_xlim(xmax = data['prop'].max()+5)\n",
    "ax.set_yticks(data.index)\n",
    "ax.set_yticklabels(labels=data['labels'], fontsize=fontsize_yticks, color = text_color)\n",
    "ax.invert_yaxis()\n",
    "fig.suptitle(\"Proportion saying they either know someone or have\\npersonally experienced at least one caregiving challenge\".upper(), \n",
    "             x = 0.5, y = 1,\n",
    "             ha='center', va='top', fontsize=fontsize_title, fontproperties = 'DIN Condensed')\n",
    "\n",
    "for x,y in zip(data['prop'], data['labels']):\n",
    "    label = f\"{x}%\"\n",
    "    ax.annotate(label,\n",
    "                (x+4,y),\n",
    "                ha='center',\n",
    "                va='center',\n",
    "                fontsize=fontsize_datalabs,\n",
    "                #color = text_color,\n",
    "                weight = 'bold')  \n",
    "\n",
    "sns.despine(bottom=True)\n",
    "fig.tight_layout(rect = [0,0.1,1,1])\n",
    "# create caption\n",
    "captext = '''Source: JUST Capital/Harris Omnibus Poll Q1. Sample: 2,052 US adults. Dates: August 9-11, 2021. \n",
    "See topline questionnaire in appendix for question wording.'''\n",
    "fig.text(x = 0, y = 0, \n",
    "         ha = 'left',\n",
    "         va = 'bottom',\n",
    "         ma = 'left',\n",
    "         s = captext, fontdict={'family':'Proxima Nova Condensed', 'fontsize':fontsize_caption})\n",
    "\n",
    "# insert logo image\n",
    "logo = plt.imread('../assets/Just Capital_Logo_RGB_500px_SSf.png')\n",
    "newax = fig.add_axes([0.9,0,0.1,0.1], anchor='SE', zorder=1)\n",
    "newax.imshow(logo)\n",
    "newax.axis('off')\n",
    "\n",
    "# save image file\n",
    "#plt.show();\n",
    "fig.savefig('../images/fig03.png', transparent = True, dpi=300, bbox_inches='tight');"
   ]
  },
  {
   "cell_type": "code",
   "execution_count": null,
   "id": "e27fbd91",
   "metadata": {},
   "outputs": [],
   "source": []
  }
 ],
 "metadata": {
  "kernelspec": {
   "display_name": "Python 3 (ipykernel)",
   "language": "python",
   "name": "python3"
  },
  "language_info": {
   "codemirror_mode": {
    "name": "ipython",
    "version": 3
   },
   "file_extension": ".py",
   "mimetype": "text/x-python",
   "name": "python",
   "nbconvert_exporter": "python",
   "pygments_lexer": "ipython3",
   "version": "3.9.7"
  }
 },
 "nbformat": 4,
 "nbformat_minor": 5
}
