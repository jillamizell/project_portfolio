{
 "cells": [
  {
   "cell_type": "code",
   "execution_count": 1,
   "metadata": {},
   "outputs": [],
   "source": [
    "import pandas as pd\n",
    "import numpy as np\n",
    "import matplotlib.pyplot as plt\n",
    "import seaborn as sns\n",
    "from matplotlib import rcParams\n",
    "import matplotlib as mpl\n",
    "import textwrap"
   ]
  },
  {
   "cell_type": "code",
   "execution_count": 2,
   "metadata": {},
   "outputs": [],
   "source": [
    "pd.options.display.max_colwidth = 500"
   ]
  },
  {
   "cell_type": "code",
   "execution_count": 3,
   "metadata": {},
   "outputs": [],
   "source": [
    "rcParams['font.family'] = 'Proxima Nova'\n",
    "text_color = '#323232'\n",
    "mpl.rcParams['text.color'] = text_color\n",
    "mpl.rcParams['axes.labelcolor'] = text_color\n",
    "mpl.rcParams['xtick.color'] = text_color\n",
    "mpl.rcParams['ytick.color'] = 'white'\n",
    "\n",
    "colors = {\n",
    "    'orange':'#f4731f',\n",
    "    'turqoise': '#41B6E6',\n",
    "    'purple': '#512D6D',\n",
    "    'blue': '#006298',\n",
    "    'l_blue': '#99D6EA',\n",
    "    'd_blue': '#01426A',\n",
    "    'green': '#78BE20'\n",
    "}"
   ]
  },
  {
   "cell_type": "code",
   "execution_count": 4,
   "metadata": {},
   "outputs": [],
   "source": [
    "data = pd.read_csv('../data/q6_df.csv')"
   ]
  },
  {
   "cell_type": "code",
   "execution_count": 5,
   "metadata": {},
   "outputs": [],
   "source": [
    "data.sort_values('tot', inplace = True)\n",
    "data.reset_index(drop = True, inplace = True)"
   ]
  },
  {
   "cell_type": "code",
   "execution_count": 6,
   "metadata": {},
   "outputs": [
    {
     "data": {
      "text/html": [
       "<div>\n",
       "<style scoped>\n",
       "    .dataframe tbody tr th:only-of-type {\n",
       "        vertical-align: middle;\n",
       "    }\n",
       "\n",
       "    .dataframe tbody tr th {\n",
       "        vertical-align: top;\n",
       "    }\n",
       "\n",
       "    .dataframe thead th {\n",
       "        text-align: right;\n",
       "    }\n",
       "</style>\n",
       "<table border=\"1\" class=\"dataframe\">\n",
       "  <thead>\n",
       "    <tr style=\"text-align: right;\">\n",
       "      <th></th>\n",
       "      <th>quest</th>\n",
       "      <th>label</th>\n",
       "      <th>tot</th>\n",
       "      <th>gov</th>\n",
       "      <th>emp</th>\n",
       "      <th>sup_sys</th>\n",
       "      <th>par_res</th>\n",
       "    </tr>\n",
       "  </thead>\n",
       "  <tbody>\n",
       "    <tr>\n",
       "      <th>0</th>\n",
       "      <td>q6_1</td>\n",
       "      <td>On-site childcare</td>\n",
       "      <td>57</td>\n",
       "      <td>68</td>\n",
       "      <td>72</td>\n",
       "      <td>55</td>\n",
       "      <td>44</td>\n",
       "    </tr>\n",
       "    <tr>\n",
       "      <th>1</th>\n",
       "      <td>q6_3</td>\n",
       "      <td>Discounted or subsidized backup child care service when there is an emergency</td>\n",
       "      <td>57</td>\n",
       "      <td>73</td>\n",
       "      <td>72</td>\n",
       "      <td>56</td>\n",
       "      <td>38</td>\n",
       "    </tr>\n",
       "    <tr>\n",
       "      <th>2</th>\n",
       "      <td>q6_7</td>\n",
       "      <td>Extra paid time off or paid leave allotments for caregiving</td>\n",
       "      <td>57</td>\n",
       "      <td>74</td>\n",
       "      <td>69</td>\n",
       "      <td>55</td>\n",
       "      <td>38</td>\n",
       "    </tr>\n",
       "    <tr>\n",
       "      <th>3</th>\n",
       "      <td>q6_2</td>\n",
       "      <td>Discounted or subsidized full-day childcare at an off-site childcare center</td>\n",
       "      <td>58</td>\n",
       "      <td>76</td>\n",
       "      <td>73</td>\n",
       "      <td>56</td>\n",
       "      <td>36</td>\n",
       "    </tr>\n",
       "    <tr>\n",
       "      <th>4</th>\n",
       "      <td>q6_4</td>\n",
       "      <td>Discounted or subsidized after-school care programs at an off-site childcare center</td>\n",
       "      <td>58</td>\n",
       "      <td>78</td>\n",
       "      <td>74</td>\n",
       "      <td>55</td>\n",
       "      <td>35</td>\n",
       "    </tr>\n",
       "    <tr>\n",
       "      <th>5</th>\n",
       "      <td>q6_5</td>\n",
       "      <td>'Pre-tax' dependent care spending account (FSA)</td>\n",
       "      <td>59</td>\n",
       "      <td>72</td>\n",
       "      <td>70</td>\n",
       "      <td>58</td>\n",
       "      <td>47</td>\n",
       "    </tr>\n",
       "    <tr>\n",
       "      <th>6</th>\n",
       "      <td>q6_9</td>\n",
       "      <td>Help locating facilities that can accommodate child care for parents working non-standard hours</td>\n",
       "      <td>59</td>\n",
       "      <td>75</td>\n",
       "      <td>72</td>\n",
       "      <td>60</td>\n",
       "      <td>38</td>\n",
       "    </tr>\n",
       "    <tr>\n",
       "      <th>7</th>\n",
       "      <td>q6_8</td>\n",
       "      <td>Quality part-time or job-sharing opportunities with predictable hours, pay and benefits</td>\n",
       "      <td>66</td>\n",
       "      <td>78</td>\n",
       "      <td>74</td>\n",
       "      <td>65</td>\n",
       "      <td>59</td>\n",
       "    </tr>\n",
       "    <tr>\n",
       "      <th>8</th>\n",
       "      <td>q6_6</td>\n",
       "      <td>Allowing employees flexibility in their work schedules</td>\n",
       "      <td>67</td>\n",
       "      <td>80</td>\n",
       "      <td>73</td>\n",
       "      <td>66</td>\n",
       "      <td>57</td>\n",
       "    </tr>\n",
       "  </tbody>\n",
       "</table>\n",
       "</div>"
      ],
      "text/plain": [
       "  quest  \\\n",
       "0  q6_1   \n",
       "1  q6_3   \n",
       "2  q6_7   \n",
       "3  q6_2   \n",
       "4  q6_4   \n",
       "5  q6_5   \n",
       "6  q6_9   \n",
       "7  q6_8   \n",
       "8  q6_6   \n",
       "\n",
       "                                                                                             label  \\\n",
       "0                                                                                On-site childcare   \n",
       "1                    Discounted or subsidized backup child care service when there is an emergency   \n",
       "2                                      Extra paid time off or paid leave allotments for caregiving   \n",
       "3                      Discounted or subsidized full-day childcare at an off-site childcare center   \n",
       "4              Discounted or subsidized after-school care programs at an off-site childcare center   \n",
       "5                                                  'Pre-tax' dependent care spending account (FSA)   \n",
       "6  Help locating facilities that can accommodate child care for parents working non-standard hours   \n",
       "7          Quality part-time or job-sharing opportunities with predictable hours, pay and benefits   \n",
       "8                                           Allowing employees flexibility in their work schedules   \n",
       "\n",
       "   tot  gov  emp  sup_sys  par_res  \n",
       "0   57   68   72       55       44  \n",
       "1   57   73   72       56       38  \n",
       "2   57   74   69       55       38  \n",
       "3   58   76   73       56       36  \n",
       "4   58   78   74       55       35  \n",
       "5   59   72   70       58       47  \n",
       "6   59   75   72       60       38  \n",
       "7   66   78   74       65       59  \n",
       "8   67   80   73       66       57  "
      ]
     },
     "execution_count": 6,
     "metadata": {},
     "output_type": "execute_result"
    }
   ],
   "source": [
    "data"
   ]
  },
  {
   "cell_type": "code",
   "execution_count": null,
   "metadata": {},
   "outputs": [],
   "source": []
  },
  {
   "cell_type": "code",
   "execution_count": 8,
   "metadata": {},
   "outputs": [
    {
     "data": {
      "text/plain": [
       "95"
      ]
     },
     "execution_count": 8,
     "metadata": {},
     "output_type": "execute_result"
    }
   ],
   "source": [
    "max([len(x) for x in data['label']])"
   ]
  },
  {
   "cell_type": "code",
   "execution_count": 7,
   "metadata": {},
   "outputs": [
    {
     "data": {
      "text/plain": [
       "array(['On-site childcare',\n",
       "       'Discounted or subsidized backup child care service when there is an emergency',\n",
       "       'Extra paid time off or paid leave allotments for caregiving',\n",
       "       'Discounted or subsidized full-day childcare at an off-site childcare center',\n",
       "       'Discounted or subsidized after-school care programs at an off-site childcare center',\n",
       "       \"'Pre-tax' dependent care spending account (FSA)\",\n",
       "       'Help locating facilities that can accommodate child care for parents working non-standard hours',\n",
       "       'Quality part-time or job-sharing opportunities with predictable hours, pay and benefits',\n",
       "       'Allowing employees flexibility in their work schedules'],\n",
       "      dtype=object)"
      ]
     },
     "execution_count": 7,
     "metadata": {},
     "output_type": "execute_result"
    }
   ],
   "source": [
    "data['label'].values"
   ]
  },
  {
   "cell_type": "code",
   "execution_count": 8,
   "metadata": {},
   "outputs": [
    {
     "data": {
      "text/plain": [
       "0                                                                                   On-site childcare\n",
       "1                      Discounted or subsidized backup child care service\\nwhen there is an emergency\n",
       "2                                        Extra paid time off or paid leave allotments for\\ncaregiving\n",
       "3                        Discounted or subsidized full-day childcare at an\\noff-site childcare center\n",
       "4                Discounted or subsidized after-school care\\nprograms at an off-site childcare center\n",
       "5                                                     'Pre-tax' dependent care spending account (FSA)\n",
       "6    Help locating facilities that can accommodate\\nchild care for parents working non-standard hours\n",
       "7            Quality part-time or job-sharing opportunities\\nwith predictable hours, pay and benefits\n",
       "8                                             Allowing employees flexibility in their work\\nschedules\n",
       "Name: label, dtype: object"
      ]
     },
     "execution_count": 8,
     "metadata": {},
     "output_type": "execute_result"
    }
   ],
   "source": [
    "data['label'].apply(lambda x: textwrap.fill(x, 50))"
   ]
  },
  {
   "cell_type": "code",
   "execution_count": 14,
   "metadata": {},
   "outputs": [
    {
     "data": {
      "image/png": "[encoded data removed]",
      "text/plain": [
       "<Figure size 540x504 with 2 Axes>"
      ]
     },
     "metadata": {},
     "output_type": "display_data"
    }
   ],
   "source": [
    "fig, ax = plt.subplots(figsize=(7.5,7))\n",
    "\n",
    "fontsize_yticks = 12\n",
    "fontsize_title = 20\n",
    "fontsize_datalabs = 12\n",
    "fontsize_caption = 8\n",
    "\n",
    "ax.set_xlim(xmax = 72)\n",
    "\n",
    "ax.barh(data['label'], data['tot'], height = 0.7, color = '#41B6E6')\n",
    "ax.set_xticks([])\n",
    "ax.set_yticks(data.index)\n",
    "ax.set_yticklabels(labels=data['label'].apply(lambda x: textwrap.fill(x, 50)), \n",
    "                   color = text_color, fontsize=fontsize_yticks)\n",
    "fig.suptitle(\"High support for employer benefits for parents\".upper(), \n",
    "             ha='center', va='center', fontsize=fontsize_title, fontproperties = 'DIN Condensed')\n",
    "\n",
    "for x,y in zip(data['tot'], data['label']):\n",
    "    label = f\"{x}%\"\n",
    "    ax.annotate(label,\n",
    "                (x+4,y),\n",
    "                ha='center',\n",
    "                va='center',\n",
    "                fontsize=fontsize_datalabs,\n",
    "                weight = 'bold')  \n",
    "\n",
    "sns.despine(bottom=True)\n",
    "fig.tight_layout(rect = (0, 0.05, 1, 1))\n",
    "\n",
    "# create caption\n",
    "captext = '''Source: JUST Capital/Harris Omnibus Poll Q6. Sample: 2,052 US adults. Dates: August 9-11, 2021. \n",
    "See topline questionnaire in appendix for question wording.'''\n",
    "fig.text(x = 0, y =0, \n",
    "         ha = 'left', va = 'bottom',\n",
    "         s = captext, fontdict={'family':'Proxima Nova Condensed', 'fontsize':fontsize_caption})\n",
    "\n",
    "# insert logo image\n",
    "logo = plt.imread('../assets/Just Capital_Logo_RGB_500px_SSf.png')\n",
    "newax = fig.add_axes([0.85,0,0.1,0.1], anchor='SE', zorder=1)\n",
    "newax.imshow(logo)\n",
    "newax.axis('off')\n",
    "\n",
    "# save image file\n",
    "#plt.show();\n",
    "fig.savefig('../images/fig11.png', transparent = True, dpi=300, bbox_inches='tight');"
   ]
  },
  {
   "cell_type": "code",
   "execution_count": null,
   "metadata": {},
   "outputs": [],
   "source": []
  },
  {
   "cell_type": "code",
   "execution_count": null,
   "metadata": {},
   "outputs": [],
   "source": []
  }
 ],
 "metadata": {
  "kernelspec": {
   "display_name": "Python 3 (ipykernel)",
   "language": "python",
   "name": "python3"
  },
  "language_info": {
   "codemirror_mode": {
    "name": "ipython",
    "version": 3
   },
   "file_extension": ".py",
   "mimetype": "text/x-python",
   "name": "python",
   "nbconvert_exporter": "python",
   "pygments_lexer": "ipython3",
   "version": "3.9.7"
  }
 },
 "nbformat": 4,
 "nbformat_minor": 4
}
